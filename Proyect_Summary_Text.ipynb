{
  "nbformat": 4,
  "nbformat_minor": 0,
  "metadata": {
    "colab": {
      "provenance": [],
      "collapsed_sections": [
        "fwWiCeneBpzn",
        "IfPVL0MMMya6"
      ]
    },
    "kernelspec": {
      "name": "python3",
      "display_name": "Python 3"
    },
    "language_info": {
      "name": "python"
    }
  },
  "cells": [
    {
      "cell_type": "code",
      "source": [
        "!pip install wikipedia"
      ],
      "metadata": {
        "colab": {
          "base_uri": "https://localhost:8080/"
        },
        "id": "kRcUFkSCDXJZ",
        "outputId": "47ac6d4c-caf5-4934-c74f-bc86211bdb4c"
      },
      "execution_count": 1,
      "outputs": [
        {
          "output_type": "stream",
          "name": "stdout",
          "text": [
            "Looking in indexes: https://pypi.org/simple, https://us-python.pkg.dev/colab-wheels/public/simple/\n",
            "Requirement already satisfied: wikipedia in /usr/local/lib/python3.8/dist-packages (1.4.0)\n",
            "Requirement already satisfied: beautifulsoup4 in /usr/local/lib/python3.8/dist-packages (from wikipedia) (4.6.3)\n",
            "Requirement already satisfied: requests<3.0.0,>=2.0.0 in /usr/local/lib/python3.8/dist-packages (from wikipedia) (2.25.1)\n",
            "Requirement already satisfied: chardet<5,>=3.0.2 in /usr/local/lib/python3.8/dist-packages (from requests<3.0.0,>=2.0.0->wikipedia) (4.0.0)\n",
            "Requirement already satisfied: certifi>=2017.4.17 in /usr/local/lib/python3.8/dist-packages (from requests<3.0.0,>=2.0.0->wikipedia) (2022.12.7)\n",
            "Requirement already satisfied: idna<3,>=2.5 in /usr/local/lib/python3.8/dist-packages (from requests<3.0.0,>=2.0.0->wikipedia) (2.10)\n",
            "Requirement already satisfied: urllib3<1.27,>=1.21.1 in /usr/local/lib/python3.8/dist-packages (from requests<3.0.0,>=2.0.0->wikipedia) (1.26.14)\n"
          ]
        }
      ]
    },
    {
      "cell_type": "code",
      "execution_count": 2,
      "metadata": {
        "id": "AMCwf3KPqXK6",
        "colab": {
          "base_uri": "https://localhost:8080/"
        },
        "outputId": "cb43fbe9-07f8-4151-96f2-191a7410e2c4"
      },
      "outputs": [
        {
          "output_type": "stream",
          "name": "stderr",
          "text": [
            "/usr/local/lib/python3.8/dist-packages/torch/cuda/__init__.py:497: UserWarning: Can't initialize NVML\n",
            "  warnings.warn(\"Can't initialize NVML\")\n"
          ]
        }
      ],
      "source": [
        "#cargamos las librerias necesarias\n",
        "import wikipedia\n",
        "\n",
        "import spacy\n",
        "from spacy.lang.en.stop_words import STOP_WORDS\n",
        "from sklearn.feature_extraction.text import TfidfVectorizer\n",
        "from sklearn.metrics.pairwise import cosine_similarity\n",
        "\n",
        "import numpy as np\n",
        "import string\n",
        "import re\n",
        "\n",
        "from sklearn.ensemble import RandomForestRegressor, GradientBoostingRegressor\n",
        "from sklearn.svm import SVR\n",
        "from sklearn.naive_bayes import MultinomialNB\n",
        "from sklearn.tree import DecisionTreeRegressor\n",
        "from sklearn.model_selection import train_test_split\n",
        "from sklearn.metrics import r2_score, mean_squared_error\n",
        "\n",
        "import seaborn as sns\n",
        "import matplotlib.pyplot as plt\n",
        "%matplotlib inline\n"
      ]
    },
    {
      "cell_type": "code",
      "source": [
        "page_title = \"Cochabamba\"    #Busqueda en Wikipedia\n",
        "text = wikipedia.page(page_title).content\n",
        "\n",
        "print(text)"
      ],
      "metadata": {
        "colab": {
          "base_uri": "https://localhost:8080/"
        },
        "id": "pskLcHgbqw2l",
        "outputId": "42a8fd16-d6a9-4668-e06f-73f554a3722d"
      },
      "execution_count": 3,
      "outputs": [
        {
          "output_type": "stream",
          "name": "stdout",
          "text": [
            "Cochabamba (Aymara: Quchapampa; Quechua: Quchapampa) is a city and municipality in central Bolivia in a valley in the Andes mountain range. It is the capital of the Cochabamba Department and the fourth largest city in Bolivia, with a population of 630,587 according to the 2012 Bolivian census. Its name is from a compound of the Quechua words qucha \"lake\" and pampa, \"open plain.\" Residents of the city and the surrounding areas are commonly referred to as cochalas or, more formally, cochabambinos.\n",
            "It is known as the \"City of Eternal Spring\" or \"The Garden City\" because of its spring-like temperatures all year round. It is also known as \"La Llajta,\" which means \"town\" in Quechua. It is the largest urban center between the higher capital of La Paz and Santa Cruz de la Sierra in the tropical plains of the east. It sits south-west of the Tunari mountains, and north of the foothills of the Valle Alto. In antiquity, the area featured numerous lakes, which gave the city its name. Many of these lakes have since disappeared to urban development, but Coña Coña and Alalay lakes are extant examples. It has been a populated settlement since the Pre-Inca period, and is today an important cultural, educational, political, and commercial centre.\n",
            "\n",
            "\n",
            "== History ==\n",
            "\n",
            "\n",
            "=== Pre-Inca and Inca ===\n",
            "The Cochabamba valley has been inhabited for thousands of years due to its fertile productive soils and mild climate. Archaeological evidence suggests that the initial inhabitants were of indigenous ethnic groups: Tiwanaku, Tupuraya, Mojocoya, Omereque, and Inca inhabited the valley at times before the Spanish arrived.The area got its name from Quechua Kochaj-pampa, as part of the Inca civilization. The area was conquered by Topa Inca Yupanqui (ruled 1471–1493). His son Huayna Capac turned Cochabamba into a large production enclave or state farm to serve the Incas. The local population was possibly depleted during the Inca conquest and Huayna Capac imported 14,000 people, called mitimas, to work the land. The principal crop was maize which could not be grown in much of the high and cold heartland of the Inca Empire. The maize was stored in 2,400 storehouses (qollqas) in the hills overlooking the valley or transported by llama caravan to storage sites in Paria, Cusco, of other Inca administrative centres.  Most of the maize was probably used to sustain the Inca army during its campaigns.\n",
            "\n",
            "\n",
            "=== Spanish and Bolivian ===\n",
            "The first Spanish inhabitant of the valley was Garci Ruiz de Orellana in 1542. He purchased the majority of the land from local tribal chiefs Achata and Consavana through a title registered in 1552 at the Imperial City of Potosí. The price paid was 130 pesos. His residence, known as the House of Mayorazgo, stands in the Cala Cala neighbourhood.\n",
            "The city, called Villa de Oropesa, was founded on 2 August 1571 by order of Viceroy Francisco de Toledo, Count of Oropesa. It was to be an agricultural production centre to provide food and wood for the mining towns of the relatively nearby Altiplano region, particularly Potosí which became one of the largest and richest cities in the world during the 16th and 17th centuries — funding the vast wealth that ultimately made Spain a world power. In fact, anthropologist Jack Weatherford and others have cited the city of Potosí as the birth of capitalism because of the money and materialism it provided Spain. Thus, with the silver mining industry in Potosí at its height, Cochabamba thrived during its first centuries. However, the city entered a period of decline during the 18th century as mining began to wane.\n",
            "In 1786, King Charles III of Spain renamed the city the 'loyal and valiant' Villa of Cochabamba. This was done to commend the city's pivotal role in suppressing the indigenous rebellions of 1781 in Oruro by sending armed forces to Oruro to quell the uprisings. Since the late 19th century it has again been generally successful as an agricultural centre for Bolivia.\n",
            "The 1793 census shows that the city had a population of 22,305 persons. There were 12,980 mestizos, 6,368 Spaniards, 1,182 indigenous natives, 1,600 mulattos and 175 African slaves.\n",
            "In 1812, Cochabamba was the site of a riot against the Spanish Army. On May 27, thousands of women took up arms against the Spanish. According to historian Nathaniel Aguirre: \"From Cochabamba, many men have fled. Not one woman. On the hillside, a great clamour. Cochabamba's plebeian women, at bay, fight from the centre of a circle of fire. Surrounded by five thousand Spaniards, they resist with battered tin guns and a few arquebuses; and they fight to the last yell, whose echoes will resound throughout the long war for independence. Whenever his army weakens, General Manuel Belgrano will shout those words which never fail to restore courage and spark anger. The general will ask his vacillating soldiers: 'Are the women of Cochabamba present?\"To celebrate their bravery, Bolivia now marks May 27 as Mother's Day.In 1900, the population was 21,886.\n",
            "Besides a number of schools and charitable institutions, the Catholic diocese has 55 parishes, 80 churches and chapels, and 160 priests.\n",
            "\n",
            "\n",
            "==== Water War ====\n",
            "\n",
            "In 1998, the International Monetary Fund (IMF) agreed to give Bolivia a loan of $138 million to control inflation and promote economic growth. However, it only agreed to do so on the condition that Bolivia sell \"all remaining public enterprises,\" including its national oil refineries and the local water company, SEMAPA. In 1999, a group of private investors, specifically the Bechtel Corporation with headquarters in San Francisco, California, United States of America, came together under the name of Aguas del Tunari and bought the rights for the privatization of the city's water. In that same year, the World Bank (WB) refused to subsidize the water to help lower the cost for the people. Then in 2000, the people of Cochabamba began to protest as water priced hiked to a 50% increase that the majority could not afford. The Coalition for the Defense of Water and Life, and its leader Oscar Olivera, started a demonstration in La Plaza 14 de Septiembre also known as La Plaza Principal. The march was meant to be peaceful, but after two days the police used tear gas against the protestors and injured about 175 people and killed 1 and blinded two. Soon after, news reports were made about the protests and the violence. The Defense of Water and Life held an unofficial referendum and 96% of 50,000 people wanted Aguas del Tunari's contract to terminate, but the government refused. The protests only grew and the entire world began to watch forcing Bechtel to leave its contract and return SEMAPA to the public. Bechtel as well tried to sue the Bolivian government for $50 million but it withdrew its claim shortly after. This event was soon labelled as the Water Wars and became a driving force for anti-globalization projects such as the UN's decision to make water sanitation a human right and the privatisation of water as unethical in 2010. Additionally, the Water Wars would help spark the next revolt against the privatisation of natural gases from 2003 to 2005 which would lead to the removal of two presidents, Gonzalo Sánchez de Lozada and Carlos Mesa, and the rise of President Evo Morales in 2006.In January 2007, city dwellers clashed with mostly rural protestors, leaving four dead and over 130 injured. The first democratically elected Prefect of Cochabamba, Manfred Reyes Villa, had allied himself with the leaders of Bolivia's Eastern Departments in a dispute with President Evo Morales over regional autonomy and other political issues. The protestors blockaded the highways, bridges, and main roads, having days earlier set fire to the departmental seat of government, trying to force the resignation of Reyes Villa. Citizens attacked the protestors, breaking the blockade and routing them, while the police did little to stop the violence. Further attempts by the protestors to reinstate the blockade and threaten the government were unsuccessful, but the underlying tensions had not been resolved.\n",
            "In July 2007, a monument erected by veterans of January's protest movement in honour of those killed and injured by government supporters was destroyed in the middle of the night, reigniting racial conflicts in the city.\n",
            "In August 2008, a nationwide referendum was held. The prefect of Cochabamba, Manfred Reyes Villa, was not confirmed by the voters of the department. The mayor of Cochabamba in 2018 is José María Leyes.\n",
            "\n",
            "\n",
            "== Climate ==\n",
            "Cochabamba is known for its \"Eternal Spring\". Neither experiencing the humid heat of Santa Cruz nor the frigid winds of La Paz, Cochabamba experiences a semi-arid climate (Köppen: BSk), bordering on a subtropical highland climate (Köppen: Cwb). The characteristic of the climate is an extended dry season that runs from May until October with a wet season that generally begins in November with the principal rains ending in March.\n",
            "\n",
            "\n",
            "== People and culture ==\n",
            "Cochabamba is known as the heart of Bolivia and the gastronomic capital. Traditional cuisine includes: salteñas, chuño, tucumanas, pique macho, silpancho, anticucho, sopa de mani, chicharrón, charke, fricasé, rellenos de papa and many more dishes.The international street art festival known as the BAU (Bienal de Arte Urbano) has been hosted in Cochabamba every two years since 2011. The festival is organized by proyecto mARTadero, a local cultural centre. In 2011, 2013, 2015, and 2017 the painting was done in the Villa Coronilla, and Geronimo de Osorio neighbourhoods. In 2019 the festival focused on the neighbourhood Esperanza, on the edge of the Alalay Lake. The festival has featured internationally renowned artists such as Blu (Italy) and Inti (Chile).Commensurate with other large cities in the Andean highlands of South America, Cochabamba is a city of contrasts. Its central commercial districts, Zona Norte, is bounded by Plaza Colón and Plaza 14 de Septiembre, are generally equipped with modern urban amenities and are where the majority of the city's formal business and commercial industries are based. La Cancha, the largest open-air market in South America, is also an active place where locals can buy a range of items. An active nightlife is centered around Calle España and along the broad, tree-lined boulevard, El Prado. In contrast, the Zona Sur, a remote area adjacent to the Wilstermann International Airport is visibly impoverished, with adobe homes and unpaved roads, which is often the first impression visitors acquire while commuting into the city.\n",
            "In 2009, the government under President Evo Morales created a new constitution that declared Spanish and 36 other indigenous languages as the official languages of the country. However, the most widely spoken languages in Cochabamba are Spanish and Quechua. Although the Spanish that is spoken in the Cochabamba region is generally regarded as rather conservative in its phonetics and vocabulary, the use of Quechua terminology (wawa [child] and wistupiku [mouth or twist lips]) has been widely incorporated into its standardized form.\n",
            "As with most cities around the globe, English is increasingly spoken and understood, particularly among business-minded indigenous and repatriated Cochabambinos. English-language instruction has become incorporated into some private schools and universities but is not taught universally, therefore a vast majority of the population does not speak English.\n",
            "About four-fifths of the population of Bolivia identifies as Catholic.Like other cities that share the same ethnic group quadrants like Salta or Cuenca, Cochabamba's demographics consist of the following visible groups in order of prevalence: Indigenous (mostly of Quechua and Aymara ethnicity) people, Mestizo, or mixed Indigenous and Spanish European, and people of Spanish (Criollos) and other European descent. As well as a fairly significant population of Afro-Bolivians.\n",
            "By 2013, the human development index of the Metropolitan region of Cochabamba was 0.801 as a result of a 35% growth in the last 20 years.\n",
            "\n",
            "\n",
            "== Government ==\n",
            "Cochabamba, formally the municipality of Cercado, is the capital of Cochabamba department. The city government is divided into executive and legislative branches. The mayor of Cochabamba is the head of the city government, elected by general election for a term of five years. The mayor heads an executive branch, which includes six sub-mayors and a variety of departments comprising 950 functionaries. The 11-member municipal council is the legislative branch.\n",
            "The current mayor is José María Leyes of the Social Democrat Movement (MDS for its initials in Spanish).\n",
            "\n",
            "\n",
            "== Economy ==\n",
            "\n",
            "\t\t\n",
            "\t\t\n",
            "The area where Cochabamba is situated is commonly referred to as the granary of Bolivia. Its climate is milder than that of the Altiplano region to the west and thus permits extensive agriculture, including grains, potatoes, and coffee in the highlands and sugar cane, cocoa beans, tobacco, and fruit in the Chapare tropical lowlands of the South American Amazon region, an area that had been one of the country's main coca-leaf-producing regions.Cochabamba is also the industrial hub of Bolivia, producing cars, cleaning products, cosmetics, chemicals, and other items like cement. The economy of Cochabamba is characterized by producing goods and services. Recently, the software industry is becoming increasingly important. International companies like GOJA and Assuresoft also have subsidiaries in Cochabamba. Due to this industry growth, Cochabamba is called the \"Silicon Valley of Bolivia\", with a high demand for professionals immersed in technological careers such as Systems Engineering, Telecommunications and Information Technology.The airline Boliviana de Aviación has its headquarters in Cochabamba. The defunct airline Lloyd Aéreo Boliviano (LAB Airlines) had its management offices on the grounds of Jorge Wilstermann Airport in Cochabamba. In Cochabamba construction has been rapidly increasing in the last couple of years with more than 750 construction sites per year.\n",
            "Narcotrafic is now controlled in Cochabamba, which used to be related to cocaine dealers several years ago.\n",
            "\n",
            "\n",
            "== Urban transport ==\n",
            "The metropolitan area of Cochabamba (Vinto, Tiquipaya, Quillacollo, Colcapirhua, Cochabamba and Sacaba) has an extensive transportation system, which cover all the districts.\n",
            "There are almost 70 bus and minibus lines, from A to Z, and dozens of minibuses and fixed-route trufis (T.RU.FI, or \"taxi con ruta fija\") taxi lines. Most lines have GPS system for monitoring and regulation of hour (line 1, line 16, line L, Line 3V, line 20, line 30, etc.). The T.RU.FI service has at least 60 lines; they are identified by signs on the roof of the vehicle showing the route from the initial stop until the final stop, which is also indicated by the line number to which it belongs. The busiest bus lines are:\n",
            "\n",
            "Line \"Q\" (CBBA-QLLO)\n",
            "Line \"W\" (CBBA-QLLO)\n",
            "Line \"3V\"\n",
            "Line \"B\" (Airport)\n",
            "Line \"K\"\n",
            "Line \"X-10\"\n",
            "Line \"36\"\n",
            "Line \"1\"\n",
            "Line \"30\"\n",
            "Line \"13\"\n",
            "Line \"Z-12\" (CBBA-TIQUIPAYA)And the busiest trufi taxi lines are:\n",
            "\n",
            "Taxi Trufi \"110\"\n",
            "Taxi Trufi \"260\" (Cochabamba-Quillacollo Line)\n",
            "Taxi Trufi \"270\" (Cochabamba-Quillacollo Line)\n",
            "Taxi Trufi \"103\" (Green line and White Line)\n",
            "Taxi Trufi \"106\" (Tiquipaya Line)\n",
            "Taxi Trufi \"130\" (Circular)\n",
            "Taxi Trufi \"209\" (Circular) (Cochabamba-Quillacollo Line)\n",
            "Taxi Trufi \"123\"\n",
            "Taxi Trufi \"224\" (Sacaba Line)\n",
            "Taxi Trufi \"240\" (Sacaba Line)\n",
            "Taxi Trufi \"244\" (Sacaba Line)\n",
            "Taxi Trufi \"115\"\n",
            "\n",
            "\n",
            "=== Light Rail ===\n",
            "\n",
            "Construction on an interurban light rail network known as Mi Tren linking Cochabamba with Suticollo, El Castillo and San Simon University began in 2017. Opening of the Red Line and first phase of the Green Line took place September 13, 2022.\n",
            "\n",
            "\n",
            "== Basic services ==\n",
            "EMSA, the municipal sanitation company, is responsible for the pickup, transportation, storage and removed from urban waste produced. EMSA covers 88% of the city and collects 400 tonnes of waste produced per day. Through the municipal government of Cochabamba, special containers made available throughout the city for the storage of solid waste common. The municipality's sole disposal facility, the K'ara K'ara waste dump (Botadero K'ara K'ara), has been the centre of a long-running controversy over pollution of the air and groundwater; it is frequently blockaded by neighbouring residents demanding changes.\n",
            "\n",
            "\n",
            "== Media ==\n",
            "\n",
            "\n",
            "=== Print media ===\n",
            "There are several newspapers in Cochabamba:\n",
            "\n",
            "Los Tiempos\n",
            "Opinión\n",
            "La Voz\n",
            "Gente\n",
            "\n",
            "\n",
            "=== Radio stations ===\n",
            "The main radio stations scattered across the department and the capital are:\n",
            "\n",
            "Estrella FM 93,1\n",
            "Centro Ltda.\n",
            "Mega DJ\n",
            "Milenio\n",
            "La Voz del Juno\n",
            "Kancha Parlaspa\n",
            "Bandera Tricolor\n",
            "Cochabamba\n",
            "Gaviota Dorada\n",
            "Del Valle\n",
            "San Rafael\n",
            "La Voz del Valle - Punata\n",
            "Continental\n",
            "Oro\n",
            "Triunfo Morena\n",
            "Epoca\n",
            "La Verdad F.M.100.7\n",
            "M&D Comunicaciones\n",
            "Universal\n",
            "Fantástico 97.1\n",
            "Panorama FM 90.9\n",
            "Punata radio Panorama FM 88.9\n",
            "FM-100 Clásica\n",
            "FM Stereo 98.7 – La voz de América\n",
            "Bethel FFM 95.5\n",
            "Ritmo 97.5\n",
            "La Triple Nueve 99.9\n",
            "La Fabrica de la Musica 107.1\n",
            "Magnal de Capinota\n",
            "Radios Fides Cochabamba, Punata y Chapare\n",
            "CEPRA Pongo Khasa 1,390 AM\n",
            "Sonido Lider 95.9 FM\n",
            "Pio XII FM 97.9\n",
            "Mundial\n",
            "Porvenir\n",
            "Radio Cosmos de Bolivia\n",
            "CEPRA - Centro de Producción Radiofónica\n",
            "CEPRA - Radio Morochota\n",
            "Enlace\n",
            "Radio HIT 105.7\n",
            "Radio Disney Bolivia\n",
            "\n",
            "\n",
            "=== Television channels ===\n",
            "In the capital and throughout the department there are many television channels that broadcast on local, provincial, national or international all day or part of it. The transmission towers that transmit channels nationally and internationally are in the high Cala Cala, Villa Moscu or Villa Taquiña.\n",
            "\n",
            "Canal 2: Canal 2 Cochabamba Corazón de América (local)\n",
            "Canal 4: Red ATB (national)\n",
            "Canal 5: Red Bolivisión (national)\n",
            "Canal 7: Bolivia TV (Channel of the State)\n",
            "Canal 9: Red Uno de Bolivia (national)\n",
            "Canal 11::TVU (local)\n",
            "Canal 13: Red Unitel (national)\n",
            "Canal 15: Archived 2010-02-08 at the Wayback Machine Cristo Viene la Red (Religious Channel)\n",
            "Canal 17: sko TV (local)\n",
            "Canal 18: Radio Televisión Popular (RTP) (national)\n",
            "Canal 20: Piñami de Comunicaciones (provincial)\n",
            "Canal 21: Archived 2019-05-02 at the Wayback Machine Tele C (local)\n",
            "Canal 24: Red ADVenir Internacional (Christian Channel/International)\n",
            "Canal 26: Metro TV (local)\n",
            "Canal 27: Sistema Cristiano de Comunicaciones (local)\n",
            "Canal 30: 30 TV (local)\n",
            "Canal 36: Cadena A (national)\n",
            "Canal 39: Univalle TV (local)\n",
            "Canal 42: Red PAT (national)\n",
            "Canal 45: Abya Yala Television (national)\n",
            "Canal 48: Red Unitepc (local)\n",
            "Canal 51: MTV Cochabamba(local)\n",
            "Canal 57: RTL Canal de Noticias(local)\n",
            "\n",
            "\n",
            "== Education ==\n",
            "\n",
            "The city is the home of the University of San Simón (UMSS, for \"Universidad Mayor de San Simón\"), one of the largest and most prominent public universities in Bolivia. UMSS is the second best university in Bolivia according to QS World University Rankings in 2013 but measured by the web metric scores as the first one during 2013–2017. Among the private universities in Bolivia ranking in the top ten are the Universidad Privada Boliviana (a prestigious business university), Universidad del Valle (a strong university in medicine with a large enrollment of international students) and  Universidad Católica Boliviana \"San Pablo\". Other well-ranked universities include Escuela Militar de Ingenieria \"Antonio Jose de Sucre\", Universidad Simón I. Patiño, Universidad de Aquino Bolivia, Universidad Adventista de Bolivia, Universidad Privada Domingo Savio and Universidad Privada Abierta Latinoamericana (UPAL). Cochabamba became the second recipient city of Brazilian students in Bolivia after the city of Santa Cruz, due to the affordable and good living conditions of the city. Also, Cochabamba is the home of one of the best schools of Bolivia, Colegio San Agustín.\n",
            "\n",
            "\n",
            "== Airport ==\n",
            "Cochabamba is served by the modern Jorge Wilstermann International Airport (IATA code CBB), which handles domestic and international flights. It houses the headquarters of Boliviana de Aviación (BOA) Bolivia's national airline and, in the past, of Lloyd Aéreo Boliviano, Bolivia's former national airline. Other domestic airlines that serve the airport include Línea Aérea Amaszonas, Ecojet and Transporte Aéreo Militar.\n",
            "\n",
            "\n",
            "== Neighborhoods ==\n",
            "Cochabamba is a steadily emerging market within the Bolivian real estate industry. Since 2010, it became the city with the most surface area in construction in Bolivia overpassing Santa Cruz and La Paz.  There are many middle and large buildings under construction by 2012. An annual mild climate, abundant greenery, mountain vistas, and a progressive local economy are factors that have contributed to the city's appeal to Bolivian nationals, expatriates and foreigners alike. Historic and affluent neighbourhoods such as Cala Cala, El Mirador, and Lomas de Aranjuez showcase some of the city's most distinguished residences.\n",
            "\n",
            "Queru Queru - North\n",
            "La Recoleta - North\n",
            "Cala Cala - North\n",
            "Lomas de Aranjuez - North\n",
            "El Mirador - North\n",
            "Las Brisas - North\n",
            "Sarco - Northwest\n",
            "Mayorazgo - Northwest\n",
            "Barrio Profesional - Northwest\n",
            "America Oeste - Northwest\n",
            "Colquiri - Northwest\n",
            "Muyurina - Northeast\n",
            "Tupuraya - Northeast\n",
            "\n",
            "Hippodromo - West\n",
            "Villa Busch - West\n",
            "Temporal - North\n",
            "La Chimba - Southwest\n",
            "Aeropuerto - Southwest\n",
            "Ticti Norte - Fringe North\n",
            "Jaihuayco - South\n",
            "Zona sud - South\n",
            "Ticti - South\n",
            "Valle Hermoso - South\n",
            "\n",
            "\n",
            "== Metropolitan area ==\n",
            "Cochabamba is connected with the following towns and cities:\n",
            "\n",
            "Quillacollo\n",
            "Sacaba\n",
            "Vinto\n",
            "Colcapirhua\n",
            "Tiquipaya\n",
            "Cliza\n",
            "Tarata\n",
            "Ironcollo\n",
            "Punata\n",
            "\n",
            "\n",
            "== Additional notes of interest ==\n",
            "Cochabamba is also mentioned in the documentary The Corporation, about their fight against the privatisation of water by a foreign-owned company, against which the people protested and won. The privatisation had gone to such an extent that even rainwater was not allowed to be collected. Read Cochabamba protests of 2000.\n",
            "Cochabamba has been confirmed to be the seat of a future South American Parliament when it is formed by UNASUR. UNASUR has yet to determine what the composition of the Parliament will be, but existing treaties all agree it will meet in Cochabamba.\n",
            "Cochabamba was the first place rugby union in Bolivia was formally established.\n",
            "Cochabamba was featured as a location in the story in the 1983 film, Scarface. Powerful drug lord Alejandro Sosa resided there, governed large coca plantations and owned cocaine labs whereupon further refining, would be shipped to Tony Montana in Florida.\n",
            "Cochabamba is the setting of the 2010 movie También la lluvia (Even the rain), which takes place during the water war of 2000. It depicts a crew making a movie about the colonization of Latin America when the protests against privatization erupt. The film stars Mexican actor Gael García Bernal, and received positive reviews.\n",
            "Cochabamba is also the site of several major spammers, as confirmed by the watchdog group Spamhaus.\n",
            "\n",
            "\n",
            "== Notable residents ==\n",
            "\n",
            "\n",
            "=== Business people ===\n",
            "Simón Iturri Patiño (1862–1947), mining magnate\n",
            "Educators and intellectualsJaime Escalante, professor and teacher whose life was dramatized in the 1988 film Stand and Deliver\n",
            "Renato Prada Oropeza, professor, semiologist, writer\n",
            "Thäddeus Haenke (1761-1816), botanist\n",
            "\n",
            "\n",
            "=== Musicians ===\n",
            "Katia Escalera, Soprano\n",
            "Jaime Laredo, (b. 1941), classical violinist\n",
            "Los Kjarkas, Cochabambino folk music group\n",
            "\n",
            "\n",
            "=== Literature ===\n",
            "Nataniel Aguirre (1843–1888), author\n",
            "Adela Zamudio (1874–1925), author and poet\n",
            "Jesús Lara (1898–1975), author and poet\n",
            "Gaby Vallejo Canedo (1941), author, professor of Literature\n",
            "Edmundo Paz Soldán,  author\n",
            "Marcelo Quiroga Santa Cruz (1931–1980), author and politician\n",
            "Javier del Granado (1913–1996), poet laureate\n",
            "Julia Urquidi (1926-2010), writer, remembered as Mario Vargas Llosa's first wife\n",
            "Renato Prada Oropeza (1937–2011), novelist and poet\n",
            "Sara Ugarte de Salamanca, poet who had the memorial built to the heroines on 1812\n",
            "Óscar Únzaga de la Vega (1916–1959), journalist and historian\n",
            "\n",
            "\n",
            "=== Other ===\n",
            "Oscar Olivera (1955), environmental activist\n",
            "\n",
            "\n",
            "=== Nazis ===\n",
            "Klaus Barbie (1913–1991), German SS and Gestapo functionary\n",
            "\n",
            "\n",
            "== Twin towns – sister cities ==\n",
            "Cochabamba is twinned with:\n",
            "\n",
            "\n",
            "== See also ==\n",
            "World People's Conference on Climate Change\n",
            "2000 Cochabamba protests\n",
            "Freternindad Folklórica y Cultural Caporales Universitarios de San Simon\n",
            "2018 South American Games\n",
            "\n",
            "\n",
            "== Notes ==\n",
            "\n",
            "\n",
            "== References ==\n",
            "Mollinedo, Arthenio (1974). \"Aspectos Generales de la Poblacion Boliviana\" [General Aspectos of the Bolivian Population] (PDF) (in Spanish). Bolivian Catholic University—San Pablo. Archived from the original (PDF) on 2014-02-04. Retrieved 27 January 2014.\n",
            "Oficina Nacional de Inmigración (1904). Censo General de la Población de la República de Bolivia Según el Empadronamiento de 1e. de Septiembre de 1900 [General Census of the Population of the Republic of Bolivia as the Enumeration of September 1st 1900] (in Spanish). La Paz, Bolivia: JM Gamarra. OCLC 8837699. Retrieved 28 January 2014.\n",
            "Zambrana, Jorge (1986). La Urbanización de la Ciudad de Cochabamba: Examen Crítico [The Urbanization of the City of Cochabamba: Critical Review] (in Spanish). College of Architects of Bolivia. OCLC 1247798.\n",
            "\n",
            "\n",
            "== External links ==\n",
            "\n",
            "Weather in Cochabamba\n",
            "The History of Cochabamba (in Spanish)\n",
            "Cbba.info Archived 2020-10-23 at the Wayback Machine Map of Cochabamba City\n"
          ]
        }
      ]
    },
    {
      "cell_type": "markdown",
      "source": [
        "#Normalizacion"
      ],
      "metadata": {
        "id": "vnOJg3vax6Dt"
      }
    },
    {
      "cell_type": "code",
      "source": [
        "def clean_text(text):\n",
        "    if isinstance(text, str):  # Verificar si el valor es una cadena de texto\n",
        "        text = text.lower() # Convertir a minúsculas\n",
        "        text = re.sub('\\[.*?\\]', '', text) # Eliminar texto entre corchetes\n",
        "        text = re.sub('\\(.*?\\)', '', text) # Eliminar texto entre paréntesis\n",
        "        text = re.sub('=.+?=', '', text) # Eliminar texto entre signos =\n",
        "        text = text.replace('\\n', '') # Eliminar caracteres \\n\n",
        "        text = text.replace('=', '') # Eliminar caracteres \\n\n",
        "        \n",
        "    return text"
      ],
      "metadata": {
        "id": "Cw4N7Z8Pre2y"
      },
      "execution_count": 4,
      "outputs": []
    },
    {
      "cell_type": "code",
      "source": [
        "#Aplicamos la funcion de limpieza y normalizacion al texto\n",
        "text = clean_text(text)\n",
        "print(text)"
      ],
      "metadata": {
        "id": "OJEaqKnYrmgA",
        "colab": {
          "base_uri": "https://localhost:8080/"
        },
        "outputId": "f771021f-aaf0-41bf-9ed1-f36fb45add90"
      },
      "execution_count": 5,
      "outputs": [
        {
          "output_type": "stream",
          "name": "stdout",
          "text": [
            "cochabamba  is a city and municipality in central bolivia in a valley in the andes mountain range. it is the capital of the cochabamba department and the fourth largest city in bolivia, with a population of 630,587 according to the 2012 bolivian census. its name is from a compound of the quechua words qucha \"lake\" and pampa, \"open plain.\" residents of the city and the surrounding areas are commonly referred to as cochalas or, more formally, cochabambinos.it is known as the \"city of eternal spring\" or \"the garden city\" because of its spring-like temperatures all year round. it is also known as \"la llajta,\" which means \"town\" in quechua. it is the largest urban center between the higher capital of la paz and santa cruz de la sierra in the tropical plains of the east. it sits south-west of the tunari mountains, and north of the foothills of the valle alto. in antiquity, the area featured numerous lakes, which gave the city its name. many of these lakes have since disappeared to urban development, but coña coña and alalay lakes are extant examples. it has been a populated settlement since the pre-inca period, and is today an important cultural, educational, political, and commercial centre. pre-inca and inca the cochabamba valley has been inhabited for thousands of years due to its fertile productive soils and mild climate. archaeological evidence suggests that the initial inhabitants were of indigenous ethnic groups: tiwanaku, tupuraya, mojocoya, omereque, and inca inhabited the valley at times before the spanish arrived.the area got its name from quechua kochaj-pampa, as part of the inca civilization. the area was conquered by topa inca yupanqui . his son huayna capac turned cochabamba into a large production enclave or state farm to serve the incas. the local population was possibly depleted during the inca conquest and huayna capac imported 14,000 people, called mitimas, to work the land. the principal crop was maize which could not be grown in much of the high and cold heartland of the inca empire. the maize was stored in 2,400 storehouses  in the hills overlooking the valley or transported by llama caravan to storage sites in paria, cusco, of other inca administrative centres.  most of the maize was probably used to sustain the inca army during its campaigns. spanish and bolivian the first spanish inhabitant of the valley was garci ruiz de orellana in 1542. he purchased the majority of the land from local tribal chiefs achata and consavana through a title registered in 1552 at the imperial city of potosí. the price paid was 130 pesos. his residence, known as the house of mayorazgo, stands in the cala cala neighbourhood.the city, called villa de oropesa, was founded on 2 august 1571 by order of viceroy francisco de toledo, count of oropesa. it was to be an agricultural production centre to provide food and wood for the mining towns of the relatively nearby altiplano region, particularly potosí which became one of the largest and richest cities in the world during the 16th and 17th centuries — funding the vast wealth that ultimately made spain a world power. in fact, anthropologist jack weatherford and others have cited the city of potosí as the birth of capitalism because of the money and materialism it provided spain. thus, with the silver mining industry in potosí at its height, cochabamba thrived during its first centuries. however, the city entered a period of decline during the 18th century as mining began to wane.in 1786, king charles iii of spain renamed the city the 'loyal and valiant' villa of cochabamba. this was done to commend the city's pivotal role in suppressing the indigenous rebellions of 1781 in oruro by sending armed forces to oruro to quell the uprisings. since the late 19th century it has again been generally successful as an agricultural centre for bolivia.the 1793 census shows that the city had a population of 22,305 persons. there were 12,980 mestizos, 6,368 spaniards, 1,182 indigenous natives, 1,600 mulattos and 175 african slaves.in 1812, cochabamba was the site of a riot against the spanish army. on may 27, thousands of women took up arms against the spanish. according to historian nathaniel aguirre: \"from cochabamba, many men have fled. not one woman. on the hillside, a great clamour. cochabamba's plebeian women, at bay, fight from the centre of a circle of fire. surrounded by five thousand spaniards, they resist with battered tin guns and a few arquebuses; and they fight to the last yell, whose echoes will resound throughout the long war for independence. whenever his army weakens, general manuel belgrano will shout those words which never fail to restore courage and spark anger. the general will ask his vacillating soldiers: 'are the women of cochabamba present?\"to celebrate their bravery, bolivia now marks may 27 as mother's day.in 1900, the population was 21,886.besides a number of schools and charitable institutions, the catholic diocese has 55 parishes, 80 churches and chapels, and 160 priests.in 1998, the international monetary fund  agreed to give bolivia a loan of $138 million to control inflation and promote economic growth. however, it only agreed to do so on the condition that bolivia sell \"all remaining public enterprises,\" including its national oil refineries and the local water company, semapa. in 1999, a group of private investors, specifically the bechtel corporation with headquarters in san francisco, california, united states of america, came together under the name of aguas del tunari and bought the rights for the privatization of the city's water. in that same year, the world bank  refused to subsidize the water to help lower the cost for the people. then in 2000, the people of cochabamba began to protest as water priced hiked to a 50% increase that the majority could not afford. the coalition for the defense of water and life, and its leader oscar olivera, started a demonstration in la plaza 14 de septiembre also known as la plaza principal. the march was meant to be peaceful, but after two days the police used tear gas against the protestors and injured about 175 people and killed 1 and blinded two. soon after, news reports were made about the protests and the violence. the defense of water and life held an unofficial referendum and 96% of 50,000 people wanted aguas del tunari's contract to terminate, but the government refused. the protests only grew and the entire world began to watch forcing bechtel to leave its contract and return semapa to the public. bechtel as well tried to sue the bolivian government for $50 million but it withdrew its claim shortly after. this event was soon labelled as the water wars and became a driving force for anti-globalization projects such as the un's decision to make water sanitation a human right and the privatisation of water as unethical in 2010. additionally, the water wars would help spark the next revolt against the privatisation of natural gases from 2003 to 2005 which would lead to the removal of two presidents, gonzalo sánchez de lozada and carlos mesa, and the rise of president evo morales in 2006.in january 2007, city dwellers clashed with mostly rural protestors, leaving four dead and over 130 injured. the first democratically elected prefect of cochabamba, manfred reyes villa, had allied himself with the leaders of bolivia's eastern departments in a dispute with president evo morales over regional autonomy and other political issues. the protestors blockaded the highways, bridges, and main roads, having days earlier set fire to the departmental seat of government, trying to force the resignation of reyes villa. citizens attacked the protestors, breaking the blockade and routing them, while the police did little to stop the violence. further attempts by the protestors to reinstate the blockade and threaten the government were unsuccessful, but the underlying tensions had not been resolved.in july 2007, a monument erected by veterans of january's protest movement in honour of those killed and injured by government supporters was destroyed in the middle of the night, reigniting racial conflicts in the city.in august 2008, a nationwide referendum was held. the prefect of cochabamba, manfred reyes villa, was not confirmed by the voters of the department. the mayor of cochabamba in 2018 is josé maría leyes.cochabamba is known for its \"eternal spring\". neither experiencing the humid heat of santa cruz nor the frigid winds of la paz, cochabamba experiences a semi-arid climate , bordering on a subtropical highland climate . the characteristic of the climate is an extended dry season that runs from may until october with a wet season that generally begins in november with the principal rains ending in march.cochabamba is known as the heart of bolivia and the gastronomic capital. traditional cuisine includes: salteñas, chuño, tucumanas, pique macho, silpancho, anticucho, sopa de mani, chicharrón, charke, fricasé, rellenos de papa and many more dishes.the international street art festival known as the bau  has been hosted in cochabamba every two years since 2011. the festival is organized by proyecto martadero, a local cultural centre. in 2011, 2013, 2015, and 2017 the painting was done in the villa coronilla, and geronimo de osorio neighbourhoods. in 2019 the festival focused on the neighbourhood esperanza, on the edge of the alalay lake. the festival has featured internationally renowned artists such as blu  and inti .commensurate with other large cities in the andean highlands of south america, cochabamba is a city of contrasts. its central commercial districts, zona norte, is bounded by plaza colón and plaza 14 de septiembre, are generally equipped with modern urban amenities and are where the majority of the city's formal business and commercial industries are based. la cancha, the largest open-air market in south america, is also an active place where locals can buy a range of items. an active nightlife is centered around calle españa and along the broad, tree-lined boulevard, el prado. in contrast, the zona sur, a remote area adjacent to the wilstermann international airport is visibly impoverished, with adobe homes and unpaved roads, which is often the first impression visitors acquire while commuting into the city.in 2009, the government under president evo morales created a new constitution that declared spanish and 36 other indigenous languages as the official languages of the country. however, the most widely spoken languages in cochabamba are spanish and quechua. although the spanish that is spoken in the cochabamba region is generally regarded as rather conservative in its phonetics and vocabulary, the use of quechua terminology  has been widely incorporated into its standardized form.as with most cities around the globe, english is increasingly spoken and understood, particularly among business-minded indigenous and repatriated cochabambinos. english-language instruction has become incorporated into some private schools and universities but is not taught universally, therefore a vast majority of the population does not speak english.about four-fifths of the population of bolivia identifies as catholic.like other cities that share the same ethnic group quadrants like salta or cuenca, cochabamba's demographics consist of the following visible groups in order of prevalence: indigenous  people, mestizo, or mixed indigenous and spanish european, and people of spanish  and other european descent. as well as a fairly significant population of afro-bolivians.by 2013, the human development index of the metropolitan region of cochabamba was 0.801 as a result of a 35% growth in the last 20 years.cochabamba, formally the municipality of cercado, is the capital of cochabamba department. the city government is divided into executive and legislative branches. the mayor of cochabamba is the head of the city government, elected by general election for a term of five years. the mayor heads an executive branch, which includes six sub-mayors and a variety of departments comprising 950 functionaries. the 11-member municipal council is the legislative branch.the current mayor is josé maría leyes of the social democrat movement .\t\t\t\tthe area where cochabamba is situated is commonly referred to as the granary of bolivia. its climate is milder than that of the altiplano region to the west and thus permits extensive agriculture, including grains, potatoes, and coffee in the highlands and sugar cane, cocoa beans, tobacco, and fruit in the chapare tropical lowlands of the south american amazon region, an area that had been one of the country's main coca-leaf-producing regions.cochabamba is also the industrial hub of bolivia, producing cars, cleaning products, cosmetics, chemicals, and other items like cement. the economy of cochabamba is characterized by producing goods and services. recently, the software industry is becoming increasingly important. international companies like goja and assuresoft also have subsidiaries in cochabamba. due to this industry growth, cochabamba is called the \"silicon valley of bolivia\", with a high demand for professionals immersed in technological careers such as systems engineering, telecommunications and information technology.the airline boliviana de aviación has its headquarters in cochabamba. the defunct airline lloyd aéreo boliviano  had its management offices on the grounds of jorge wilstermann airport in cochabamba. in cochabamba construction has been rapidly increasing in the last couple of years with more than 750 construction sites per year.narcotrafic is now controlled in cochabamba, which used to be related to cocaine dealers several years ago.the metropolitan area of cochabamba  has an extensive transportation system, which cover all the districts.there are almost 70 bus and minibus lines, from a to z, and dozens of minibuses and fixed-route trufis  taxi lines. most lines have gps system for monitoring and regulation of hour . the t.ru.fi service has at least 60 lines; they are identified by signs on the roof of the vehicle showing the route from the initial stop until the final stop, which is also indicated by the line number to which it belongs. the busiest bus lines are:line \"q\" line \"w\" line \"3v\"line \"b\" line \"k\"line \"x-10\"line \"36\"line \"1\"line \"30\"line \"13\"line \"z-12\" and the busiest trufi taxi lines are:taxi trufi \"110\"taxi trufi \"260\" taxi trufi \"270\" taxi trufi \"103\" taxi trufi \"106\" taxi trufi \"130\" taxi trufi \"209\"  taxi trufi \"123\"taxi trufi \"224\" taxi trufi \"240\" taxi trufi \"244\" taxi trufi \"115\" light rail construction on an interurban light rail network known as mi tren linking cochabamba with suticollo, el castillo and san simon university began in 2017. opening of the red line and first phase of the green line took place september 13, 2022.emsa, the municipal sanitation company, is responsible for the pickup, transportation, storage and removed from urban waste produced. emsa covers 88% of the city and collects 400 tonnes of waste produced per day. through the municipal government of cochabamba, special containers made available throughout the city for the storage of solid waste common. the municipality's sole disposal facility, the k'ara k'ara waste dump , has been the centre of a long-running controversy over pollution of the air and groundwater; it is frequently blockaded by neighbouring residents demanding changes. print media there are several newspapers in cochabamba:los tiemposopiniónla vozgente radio stations the main radio stations scattered across the department and the capital are:estrella fm 93,1centro ltda.mega djmileniola voz del junokancha parlaspabandera tricolorcochabambagaviota doradadel vallesan rafaella voz del valle - punatacontinentalorotriunfo morenaepocala verdad f.m.100.7m&d comunicacionesuniversalfantástico 97.1panorama fm 90.9punata radio panorama fm 88.9fm-100 clásicafm stereo 98.7 – la voz de américabethel ffm 95.5ritmo 97.5la triple nueve 99.9la fabrica de la musica 107.1magnal de capinotaradios fides cochabamba, punata y chaparecepra pongo khasa 1,390 amsonido lider 95.9 fmpio xii fm 97.9mundialporvenirradio cosmos de boliviacepra - centro de producción radiofónicacepra - radio morochotaenlaceradio hit 105.7radio disney bolivia television channels in the capital and throughout the department there are many television channels that broadcast on local, provincial, national or international all day or part of it. the transmission towers that transmit channels nationally and internationally are in the high cala cala, villa moscu or villa taquiña.canal 2: canal 2 cochabamba corazón de américa canal 4: red atb canal 5: red bolivisión canal 7: bolivia tv canal 9: red uno de bolivia canal 11::tvu canal 13: red unitel canal 15: archived 2010-02-08 at the wayback machine cristo viene la red canal 17: sko tv canal 18: radio televisión popular  canal 20: piñami de comunicaciones canal 21: archived 2019-05-02 at the wayback machine tele c canal 24: red advenir internacional canal 26: metro tv canal 27: sistema cristiano de comunicaciones canal 30: 30 tv canal 36: cadena a canal 39: univalle tv canal 42: red pat canal 45: abya yala television canal 48: red unitepc canal 51: mtv cochabambacanal 57: rtl canal de noticiasthe city is the home of the university of san simón , one of the largest and most prominent public universities in bolivia. umss is the second best university in bolivia according to qs world university rankings in 2013 but measured by the web metric scores as the first one during 2013–2017. among the private universities in bolivia ranking in the top ten are the universidad privada boliviana , universidad del valle  and  universidad católica boliviana \"san pablo\". other well-ranked universities include escuela militar de ingenieria \"antonio jose de sucre\", universidad simón i. patiño, universidad de aquino bolivia, universidad adventista de bolivia, universidad privada domingo savio and universidad privada abierta latinoamericana . cochabamba became the second recipient city of brazilian students in bolivia after the city of santa cruz, due to the affordable and good living conditions of the city. also, cochabamba is the home of one of the best schools of bolivia, colegio san agustín.cochabamba is served by the modern jorge wilstermann international airport , which handles domestic and international flights. it houses the headquarters of boliviana de aviación  bolivia's national airline and, in the past, of lloyd aéreo boliviano, bolivia's former national airline. other domestic airlines that serve the airport include línea aérea amaszonas, ecojet and transporte aéreo militar.cochabamba is a steadily emerging market within the bolivian real estate industry. since 2010, it became the city with the most surface area in construction in bolivia overpassing santa cruz and la paz.  there are many middle and large buildings under construction by 2012. an annual mild climate, abundant greenery, mountain vistas, and a progressive local economy are factors that have contributed to the city's appeal to bolivian nationals, expatriates and foreigners alike. historic and affluent neighbourhoods such as cala cala, el mirador, and lomas de aranjuez showcase some of the city's most distinguished residences.queru queru - northla recoleta - northcala cala - northlomas de aranjuez - northel mirador - northlas brisas - northsarco - northwestmayorazgo - northwestbarrio profesional - northwestamerica oeste - northwestcolquiri - northwestmuyurina - northeasttupuraya - northeasthippodromo - westvilla busch - westtemporal - northla chimba - southwestaeropuerto - southwestticti norte - fringe northjaihuayco - southzona sud - southticti - southvalle hermoso - southcochabamba is connected with the following towns and cities:quillacollosacabavintocolcapirhuatiquipayaclizatarataironcollopunatacochabamba is also mentioned in the documentary the corporation, about their fight against the privatisation of water by a foreign-owned company, against which the people protested and won. the privatisation had gone to such an extent that even rainwater was not allowed to be collected. read cochabamba protests of 2000.cochabamba has been confirmed to be the seat of a future south american parliament when it is formed by unasur. unasur has yet to determine what the composition of the parliament will be, but existing treaties all agree it will meet in cochabamba.cochabamba was the first place rugby union in bolivia was formally established.cochabamba was featured as a location in the story in the 1983 film, scarface. powerful drug lord alejandro sosa resided there, governed large coca plantations and owned cocaine labs whereupon further refining, would be shipped to tony montana in florida.cochabamba is the setting of the 2010 movie también la lluvia , which takes place during the water war of 2000. it depicts a crew making a movie about the colonization of latin america when the protests against privatization erupt. the film stars mexican actor gael garcía bernal, and received positive reviews.cochabamba is also the site of several major spammers, as confirmed by the watchdog group spamhaus. business people simón iturri patiño , mining magnateeducators and intellectualsjaime escalante, professor and teacher whose life was dramatized in the 1988 film stand and deliverrenato prada oropeza, professor, semiologist, writerthäddeus haenke , botanist musicians katia escalera, sopranojaime laredo, , classical violinistlos kjarkas, cochabambino folk music group literature nataniel aguirre , authoradela zamudio , author and poetjesús lara , author and poetgaby vallejo canedo , author, professor of literatureedmundo paz soldán,  authormarcelo quiroga santa cruz , author and politicianjavier del granado , poet laureatejulia urquidi , writer, remembered as mario vargas llosa's first wiferenato prada oropeza , novelist and poetsara ugarte de salamanca, poet who had the memorial built to the heroines on 1812óscar únzaga de la vega , journalist and historian other oscar olivera , environmental activist nazis klaus barbie , german ss and gestapo functionarycochabamba is twinned with:world people's conference on climate change2000 cochabamba protestsfreternindad folklórica y cultural caporales universitarios de san simon2018 south american gamesmollinedo, arthenio . \"aspectos generales de la poblacion boliviana\"   . bolivian catholic university—san pablo. archived from the original  on 2014-02-04. retrieved 27 january 2014.oficina nacional de inmigración . censo general de la población de la república de bolivia según el empadronamiento de 1e. de septiembre de 1900  . la paz, bolivia: jm gamarra. oclc 8837699. retrieved 28 january 2014.zambrana, jorge . la urbanización de la ciudad de cochabamba: examen crítico  . college of architects of bolivia. oclc 1247798.weather in cochabambathe history of cochabamba cbba.info archived 2020-10-23 at the wayback machine map of cochabamba city\n"
          ]
        }
      ]
    },
    {
      "cell_type": "code",
      "source": [
        "#Verificamos la cantidad de caracteres que contiene el texto Normalizado para al final comparar con el Summary\n",
        "len(text)"
      ],
      "metadata": {
        "colab": {
          "base_uri": "https://localhost:8080/"
        },
        "id": "O6gJokotPb0w",
        "outputId": "b5e308c6-2cd2-4ea8-a96e-9a8fc7dd171f"
      },
      "execution_count": 6,
      "outputs": [
        {
          "output_type": "execute_result",
          "data": {
            "text/plain": [
              "23034"
            ]
          },
          "metadata": {},
          "execution_count": 6
        }
      ]
    },
    {
      "cell_type": "markdown",
      "source": [
        "Una ves normalizado el texto convirtiendo a minisculas y eliminando algunos caracteres especiales que consideramos, vemos que para este ejemplo tenemos 10298 caracteres"
      ],
      "metadata": {
        "id": "sRKTqLYQyiEt"
      }
    },
    {
      "cell_type": "markdown",
      "source": [
        "#Spacy"
      ],
      "metadata": {
        "id": "ZCwMFhBCzX4O"
      }
    },
    {
      "cell_type": "code",
      "source": [
        "# Spacy\n",
        "nlp = spacy.load('en_core_web_sm')#Cargamos un modelo pre entrenado en ingles de Spacy\n",
        "sentences = list(nlp(text).sents)#con el modelo cargado en \"nlp\" y convertimos el texto en diviciones de oraciones con el medoto \"sent\"\n"
      ],
      "metadata": {
        "id": "QW1_ImVbzZTt"
      },
      "execution_count": 7,
      "outputs": []
    },
    {
      "cell_type": "code",
      "source": [
        "#imprimimos las oraciones divididas\n",
        "print(sentences)"
      ],
      "metadata": {
        "colab": {
          "base_uri": "https://localhost:8080/"
        },
        "id": "X8FvBJxZL8ZK",
        "outputId": "fc8c156c-b10f-49a1-d846-bbebaacf8447"
      },
      "execution_count": 8,
      "outputs": [
        {
          "output_type": "stream",
          "name": "stdout",
          "text": [
            "[cochabamba  is a city and municipality in central bolivia in a valley in the andes mountain range., it is the capital of the cochabamba department and the fourth largest city in bolivia, with a population of 630,587 according to the 2012 bolivian census., its name is from a compound of the quechua words qucha \"lake\" and pampa, \"open plain.\", residents of the city and the surrounding areas are commonly referred to as cochalas or, more formally, cochabambinos.it is known as the \"city of eternal spring\" or \"the garden city\" because of its spring-like temperatures all year round., it is also known as \"la llajta,\" which means \"town\" in quechua., it is the largest urban center between the higher capital of la paz and santa cruz de la sierra in the tropical plains of the east., it sits south-west of the tunari mountains, and north of the foothills of the valle alto., in antiquity, the area featured numerous lakes, which gave the city its name., many of these lakes have since disappeared to urban development, but coña coña and alalay lakes are extant examples., it has been a populated settlement since the pre-inca period, and is today an important cultural, educational, political, and commercial centre., pre-inca and inca the cochabamba valley has been inhabited for thousands of years due to its fertile productive soils and mild climate., archaeological evidence suggests that the initial inhabitants were of indigenous ethnic groups: tiwanaku, tupuraya, mojocoya, omereque, and inca inhabited the valley at times before the spanish arrived.the area got its name from quechua kochaj-pampa, as part of the inca civilization., the area was conquered by topa inca yupanqui ., his son huayna capac turned cochabamba into a large production enclave or state farm to serve the incas., the local population was possibly depleted during the inca conquest and huayna capac imported 14,000 people, called mitimas, to work the land., the principal crop was maize which could not be grown in much of the high and cold heartland of the inca empire., the maize was stored in 2,400 storehouses  in the hills overlooking the valley or transported by llama caravan to storage sites in paria, cusco, of other inca administrative centres.  , most of the maize was probably used to sustain the inca army during its campaigns., spanish and bolivian the first spanish inhabitant of the valley was garci ruiz de orellana in 1542., he purchased the majority of the land from local tribal chiefs achata and consavana through a title registered in 1552 at the imperial city of potosí., the price paid was 130 pesos., his residence, known as the house of mayorazgo, stands in the cala cala neighbourhood.the city, called villa de oropesa, was founded on 2 august 1571 by order of viceroy francisco de toledo, count of oropesa., it was to be an agricultural production centre to provide food and wood for the mining towns of the relatively nearby altiplano region, particularly potosí which became one of the largest and richest cities in the world during the 16th and 17th centuries — funding the vast wealth that ultimately made spain a world power., in fact, anthropologist jack weatherford and others have cited the city of potosí as the birth of capitalism because of the money and materialism it provided spain., thus, with the silver mining industry in potosí at its height, cochabamba thrived during its first centuries., however, the city entered a period of decline during the 18th century as mining began to wane.in 1786, king charles iii of spain renamed the city the 'loyal and valiant' villa of cochabamba., this was done to commend the city's pivotal role in suppressing the indigenous rebellions of 1781 in oruro by sending armed forces to oruro to quell the uprisings., since the late 19th century it has again been generally successful as an agricultural centre for bolivia.the 1793 census shows that the city had a population of 22,305 persons., there were 12,980 mestizos, 6,368 spaniards, 1,182 indigenous natives, 1,600 mulattos and 175 african slaves.in 1812, cochabamba was the site of a riot against the spanish army., on may 27, thousands of women took up arms against the spanish., according to historian nathaniel aguirre: \"from cochabamba, many men have fled., not one woman., on the hillside, a great clamour., cochabamba's plebeian women, at bay, fight from the centre of a circle of fire., surrounded by five thousand spaniards, they resist with battered tin guns and a few arquebuses; and they fight to the last yell, whose echoes will resound throughout the long war for independence., whenever his army weakens, general manuel belgrano will shout those words which never fail to restore courage and spark anger., the general will ask his vacillating soldiers: 'are the women of cochabamba present?\"to celebrate their bravery, bolivia now marks may 27 as mother's day.in 1900, the population was 21,886.besides a number of schools and charitable institutions, the catholic diocese has 55 parishes, 80 churches and chapels, and 160 priests.in 1998, the international monetary fund  agreed to give bolivia a loan of $138 million to control inflation and promote economic growth., however, it only agreed to do so on the condition that bolivia sell \"all remaining public enterprises,\" including its national oil refineries and the local water company, semapa., in 1999, a group of private investors, specifically the bechtel corporation with headquarters in san francisco, california, united states of america, came together under the name of aguas del tunari and bought the rights for the privatization of the city's water., in that same year, the world bank  refused to subsidize the water to help lower the cost for the people., then in 2000, the people of cochabamba began to protest as water priced hiked to a 50% increase that the majority could not afford., the coalition for the defense of water and life, and its leader oscar olivera, started a demonstration in la plaza 14 de septiembre also known as la plaza principal., the march was meant to be peaceful, but after two days the police used tear gas against the protestors and injured about 175 people and killed 1 and blinded two., soon after, news reports were made about the protests and the violence., the defense of water and life held an unofficial referendum and 96% of 50,000 people wanted aguas del tunari's contract to terminate, but the government refused., the protests only grew and the entire world began to watch forcing bechtel to leave its contract and return semapa to the public., bechtel as well tried to sue the bolivian government for $50 million but it withdrew its claim shortly after., this event was soon labelled as the water wars and became a driving force for anti-globalization projects such as the un's decision to make water sanitation a human right and the privatisation of water as unethical in 2010., additionally, the water wars would help spark the next revolt against the privatisation of natural gases from 2003 to 2005 which would lead to the removal of two presidents, gonzalo sánchez de lozada and carlos mesa, and the rise of president evo morales in 2006.in january 2007, city dwellers clashed with mostly rural protestors, leaving four dead and over 130 injured., the first democratically elected prefect of cochabamba, manfred reyes villa, had allied himself with the leaders of bolivia's eastern departments in a dispute with president evo morales over regional autonomy and other political issues., the protestors blockaded the highways, bridges, and main roads, having days earlier set fire to the departmental seat of government, trying to force the resignation of reyes villa., citizens attacked the protestors, breaking the blockade and routing them, while the police did little to stop the violence., further attempts by the protestors to reinstate the blockade and threaten the government were unsuccessful, but the underlying tensions had not been resolved.in july 2007, a monument erected by veterans of january's protest movement in honour of those killed and injured by government supporters was destroyed in the middle of the night, reigniting racial conflicts in the city.in august 2008, a nationwide referendum was held., the prefect of cochabamba, manfred reyes villa, was not confirmed by the voters of the department., the mayor of cochabamba in 2018 is josé maría leyes.cochabamba is known for its \"eternal spring\"., neither experiencing the humid heat of santa cruz nor the frigid winds of la paz, cochabamba experiences a semi-arid climate , bordering on a subtropical highland climate ., the characteristic of the climate is an extended dry season that runs from may until october with a wet season that generally begins in november with the principal rains ending in march.cochabamba is known as the heart of bolivia and the gastronomic capital., traditional cuisine includes: salteñas, chuño, tucumanas, pique macho, silpancho, anticucho, sopa de mani, chicharrón, charke, fricasé, rellenos de papa and many more dishes.the international street art festival known as the bau  has been hosted in cochabamba every two years since 2011., the festival is organized by proyecto martadero, a local cultural centre., in 2011, 2013, 2015, and 2017 the painting was done in the villa coronilla, and geronimo de osorio neighbourhoods., in 2019 the festival focused on the neighbourhood esperanza, on the edge of the alalay lake., the festival has featured internationally renowned artists such as blu  and inti .commensurate with other large cities in the andean highlands of south america, cochabamba is a city of contrasts., its central commercial districts, zona norte, is bounded by plaza colón and plaza 14 de septiembre, are generally equipped with modern urban amenities and are where the majority of the city's formal business and commercial industries are based., la cancha, the largest open-air market in south america, is also an active place where locals can buy a range of items., an active nightlife is centered around calle españa and along the broad, tree-lined boulevard, el prado., in contrast, the zona sur, a remote area adjacent to the wilstermann international airport is visibly impoverished, with adobe homes and unpaved roads, which is often the first impression visitors acquire while commuting into the city.in 2009, the government under president evo morales created a new constitution that declared spanish and 36 other indigenous languages as the official languages of the country., however, the most widely spoken languages in cochabamba are spanish and quechua., although the spanish that is spoken in the cochabamba region is generally regarded as rather conservative in its phonetics and vocabulary, the use of quechua terminology  has been widely incorporated into its standardized form.as with most cities around the globe, english is increasingly spoken and understood, particularly among business-minded indigenous and repatriated cochabambinos., english-language instruction has become incorporated into some private schools and universities but is not taught universally, therefore a vast majority of the population does not speak english.about four-fifths of the population of bolivia identifies as catholic.like other cities that share the same ethnic group quadrants like salta or cuenca, cochabamba's demographics consist of the following visible groups in order of prevalence: indigenous  people, mestizo, or mixed indigenous and spanish european, and people of spanish  and other european descent., as well as a fairly significant population of afro-bolivians.by 2013, the human development index of the metropolitan region of cochabamba was 0.801 as a result of a 35% growth in the last 20 years.cochabamba, formally the municipality of cercado, is the capital of cochabamba department., the city government is divided into executive and legislative branches., the mayor of cochabamba is the head of the city government, elected by general election for a term of five years., the mayor heads an executive branch, which includes six sub-mayors and a variety of departments comprising 950 functionaries., the 11-member municipal council is the legislative branch.the current mayor is josé maría leyes of the social democrat movement .\t\t\t\t, the area where cochabamba is situated is commonly referred to as the granary of bolivia., its climate is milder than that of the altiplano region to the west and thus permits extensive agriculture, including grains, potatoes, and coffee in the highlands and sugar cane, cocoa beans, tobacco, and fruit in the chapare tropical lowlands of the south american amazon region, an area that had been one of the country's main coca-leaf-producing regions.cochabamba is also the industrial hub of bolivia, producing cars, cleaning products, cosmetics, chemicals, and other items like cement., the economy of cochabamba is characterized by producing goods and services., recently, the software industry is becoming increasingly important., international companies like goja and assuresoft also have subsidiaries in cochabamba., due to this industry growth, cochabamba is called the \"silicon valley of bolivia\", with a high demand for professionals immersed in technological careers such as systems engineering, telecommunications and information technology.the airline boliviana de aviación has its headquarters in cochabamba., the defunct airline lloyd aéreo boliviano  had its management offices on the grounds of jorge wilstermann airport in cochabamba., in cochabamba construction has been rapidly increasing in the last couple of years with more than 750 construction sites per year.narcotrafic is now controlled in cochabamba, which used to be related to cocaine dealers several years ago.the metropolitan area of cochabamba  has an extensive transportation system, which cover all the districts.there are almost 70 bus and minibus lines, from a to z, and dozens of minibuses and fixed-route trufis  taxi lines., most lines have gps system for monitoring and regulation of hour ., the t.ru.fi service has at least 60 lines; they are identified by signs on the roof of the vehicle showing the route from the initial stop until the final stop, which is also indicated by the line number to which it belongs., the busiest bus lines are:line \"q\" line \"w\" line \"3v\"line \"b\" line \"k\"line \"x-10\"line, \"36\"line \"1\"line \"30\"line \"13\"line \"z-12\" and the busiest trufi taxi lines are:taxi trufi \"110\"taxi trufi \"260\" taxi trufi \"270\" taxi trufi \"103\" taxi trufi \"106\" taxi trufi \"130\" taxi trufi \"209\"  taxi trufi \"123\"taxi trufi \"224\" taxi trufi \"240\" taxi trufi \"244\" taxi trufi \"115\" light rail construction on an interurban light rail network known as mi tren linking cochabamba with suticollo, el castillo and san simon university began in 2017., opening of the red line and first phase of the green line took place september 13, 2022.emsa, the municipal sanitation company, is responsible for the pickup, transportation, storage and removed from urban waste produced., emsa covers 88% of the city and collects 400 tonnes of waste produced per day., through the municipal government of cochabamba, special containers made available throughout the city for the storage of solid waste common., the municipality's sole disposal facility, the k'ara k'ara waste dump , has been the centre of a long-running controversy over pollution of the air and groundwater; it is frequently blockaded by neighbouring residents demanding changes., print media there are several newspapers in cochabamba:los tiemposopiniónla vozgente radio stations the main radio stations scattered across the department and the capital are:estrella fm 93,1centro ltda.mega djmileniola voz del junokancha parlaspabandera tricolorcochabambagaviota doradadel vallesan rafaella voz del valle - punatacontinentalorotriunfo morenaepocala verdad f.m.100.7m&d comunicacionesuniversalfantástico 97.1panorama fm 90.9punata radio panorama fm 88.9fm-100 clásicafm stereo 98.7 – la voz de américabethel ffm 95.5ritmo 97.5la triple nueve 99.9la fabrica de la musica 107.1magnal de capinotaradios fides cochabamba, punata y chaparecepra pongo khasa 1,390 amsonido lider 95.9, fmpio xii fm 97.9mundialporvenirradio cosmos de boliviacepra - centro de producción radiofónicacepra - radio morochotaenlaceradio hit 105.7radio disney bolivia television channels in the capital and throughout the department there are many television channels that broadcast on local, provincial, national or international all day or part of it., the transmission towers that transmit channels nationally and internationally are in the high cala cala, villa moscu or villa taquiña.canal 2: canal 2 cochabamba corazón de américa canal 4: red atb canal 5: red bolivisión canal 7: bolivia tv canal 9: red uno de bolivia canal 11::tvu canal 13: red unitel canal 15: archived 2010-02-08 at the wayback machine cristo viene la red canal 17: sko tv canal 18: radio televisión popular  canal 20: piñami de comunicaciones canal 21: archived 2019-05-02 at the wayback machine tele c canal 24: red advenir internacional canal 26: metro tv canal 27: sistema cristiano de comunicaciones canal 30: 30 tv canal 36: cadena a canal 39: univalle tv canal 42: red pat canal 45: abya yala television canal 48: red unitepc canal 51: mtv cochabambacanal 57: rtl canal de noticiasthe city is the home of the university of san simón , one of the largest and most prominent public universities in bolivia., umss is the second best university in bolivia according to qs world university rankings in 2013 but measured by the web metric scores as the first one during 2013–2017., among the private universities in bolivia ranking in the top ten are the universidad privada boliviana , universidad del valle  and  universidad católica boliviana \"san pablo\"., other well-ranked universities include escuela militar de ingenieria \"antonio jose de sucre\", universidad simón i. patiño, universidad de aquino bolivia, universidad adventista de bolivia, universidad privada domingo savio and universidad privada abierta latinoamericana ., cochabamba became the second recipient city of brazilian students in bolivia after the city of santa cruz, due to the affordable and good living conditions of the city., also, cochabamba is the home of one of the best schools of bolivia, colegio san agustín.cochabamba is served by the modern jorge wilstermann international airport , which handles domestic and international flights., it houses the headquarters of boliviana de aviación  bolivia's national airline and, in the past, of lloyd aéreo boliviano, bolivia's former national airline., other domestic airlines that serve the airport include línea aérea amaszonas, ecojet and transporte aéreo militar.cochabamba is a steadily emerging market within the bolivian real estate industry., since 2010, it became the city with the most surface area in construction in bolivia overpassing santa cruz and la paz.  , there are many middle and large buildings under construction by 2012., an annual mild climate, abundant greenery, mountain vistas, and a progressive local economy are factors that have contributed to the city's appeal to bolivian nationals, expatriates and foreigners alike., historic and affluent neighbourhoods such as cala cala, el mirador, and lomas de aranjuez showcase some of the city's most distinguished residences.queru queru - northla recoleta - northcala cala - northlomas de aranjuez - northel mirador - northlas brisas - northsarco - northwestmayorazgo - northwestbarrio profesional - northwestamerica oeste - northwestcolquiri - northwestmuyurina - northeasttupuraya - northeasthippodromo - westvilla busch - westtemporal - northla chimba - southwestaeropuerto - southwestticti norte - fringe northjaihuayco - southzona sud - southticti - southvalle hermoso - southcochabamba is connected with the following towns and cities:quillacollosacabavintocolcapirhuatiquipayaclizatarataironcollopunatacochabamba is also mentioned in the documentary the corporation, about their fight against the privatisation of water by a foreign-owned company, against which the people protested and won., the privatisation had gone to such an extent that even rainwater was not allowed to be collected., read cochabamba protests of 2000.cochabamba has been confirmed to be the seat of a future south american parliament when it is formed by, unasur. unasur has yet to determine what the composition of the parliament will be, but existing treaties all agree it will meet in cochabamba.cochabamba was the first place rugby union in bolivia was formally established.cochabamba was featured as a location in the story in the 1983 film, scarface., powerful drug lord alejandro sosa resided there, governed large coca plantations and owned cocaine labs whereupon further refining, would be shipped to tony montana in florida.cochabamba is the setting of the 2010 movie también la lluvia , which takes place during the water war of 2000., it depicts a crew making a movie about the colonization of latin america when the protests against privatization erupt., the film stars mexican actor gael garcía bernal, and received positive reviews.cochabamba is also the site of several major spammers, as confirmed by the watchdog group spamhaus., business people simón iturri patiño , mining magnateeducators and intellectualsjaime escalante, professor and teacher whose life was dramatized in the 1988 film stand and deliverrenato prada oropeza, professor, semiologist, writerthäddeus haenke , botanist musicians katia escalera, sopranojaime laredo, , classical violinistlos kjarkas, cochabambino folk music group literature nataniel aguirre , authoradela zamudio , author and poetjesús lara , author and poetgaby, vallejo canedo , author, professor of literatureedmundo paz soldán,  authormarcelo quiroga santa cruz , author and politicianjavier del granado , poet laureatejulia urquidi , writer, remembered as mario vargas llosa's first wiferenato prada oropeza , novelist and poetsara ugarte de salamanca, poet who had the memorial built to the heroines on 1812óscar únzaga de la vega , journalist and historian other oscar olivera , environmental activist nazis klaus barbie , german ss and gestapo functionarycochabamba is twinned with:world people's conference on climate change2000 cochabamba, protestsfreternindad folklórica y cultural caporales universitarios de san simon2018 south american gamesmollinedo, arthenio ., \"aspectos generales de la poblacion boliviana\"   ., bolivian catholic university—san pablo. archived from the original  on 2014-02-04., retrieved 27 january 2014.oficina nacional de inmigración ., censo general de la población de la república de bolivia según el empadronamiento de 1e., de septiembre de 1900  ., la paz, bolivia: jm gamarra., oclc 8837699., retrieved 28 january 2014.zambrana, jorge ., la urbanización de la ciudad de cochabamba: examen crítico  ., college of architects of bolivia., oclc 1247798.weather in cochabambathe history of cochabamba cbba.info archived 2020-10-23 at the wayback machine map of cochabamba city]\n"
          ]
        }
      ]
    },
    {
      "cell_type": "code",
      "source": [
        "#imprimimos la cantidad de oraciones\n",
        "len(sentences)"
      ],
      "metadata": {
        "colab": {
          "base_uri": "https://localhost:8080/"
        },
        "id": "j5Fu2PjN0t31",
        "outputId": "4ede3676-3b13-44be-b185-64dc4abf671f"
      },
      "execution_count": 9,
      "outputs": [
        {
          "output_type": "execute_result",
          "data": {
            "text/plain": [
              "124"
            ]
          },
          "metadata": {},
          "execution_count": 9
        }
      ]
    },
    {
      "cell_type": "code",
      "source": [
        "#Limpiamos las oraciones eliminando las palabras stopwords de las oraciones\n",
        "cleaned_sentences = []    #creamos una lista vacia para almacenar las oraciones limpias\n",
        "for sentence in sentences:\n",
        "    words = [token.text.lower() for token in sentence if not token.is_stop]#crea una lista con las palabras mas comunes(stopwords) de todas las oraciones\n",
        "    cleaned_sentences.append(' '.join(words))# agrega las oraciones excluyendo los stopwords procesadas en words"
      ],
      "metadata": {
        "id": "yvnAiOGyL6Az"
      },
      "execution_count": 10,
      "outputs": []
    },
    {
      "cell_type": "code",
      "source": [
        "#imprimimos las palabras mas comunes de las oraciones(stopwords) que fueron eliminados de las oraciones\n",
        "print(words)"
      ],
      "metadata": {
        "colab": {
          "base_uri": "https://localhost:8080/"
        },
        "id": "s51nmvC64fb9",
        "outputId": "2aa589b6-01d6-491c-f7d7-4cef0a4f99e6"
      },
      "execution_count": 11,
      "outputs": [
        {
          "output_type": "stream",
          "name": "stdout",
          "text": [
            "['oclc', '1247798.weather', 'cochabambathe', 'history', 'cochabamba', 'cbba.info', 'archived', '2020', '-', '10', '-', '23', 'wayback', 'machine', 'map', 'cochabamba', 'city']\n"
          ]
        }
      ]
    },
    {
      "cell_type": "code",
      "source": [
        "#Imprimimos las oraciones sin stopwords generado\n",
        "cleaned_sentences"
      ],
      "metadata": {
        "colab": {
          "base_uri": "https://localhost:8080/"
        },
        "id": "QMf86X1zMBFf",
        "outputId": "64646b1e-91a0-48a0-ae8e-d514246d02d8"
      },
      "execution_count": 12,
      "outputs": [
        {
          "output_type": "execute_result",
          "data": {
            "text/plain": [
              "['cochabamba   city municipality central bolivia valley andes mountain range .',\n",
              " 'capital cochabamba department fourth largest city bolivia , population 630,587 according 2012 bolivian census .',\n",
              " 'compound quechua words qucha \" lake \" pampa , \" open plain . \"',\n",
              " 'residents city surrounding areas commonly referred cochalas , formally , cochabambinos.it known \" city eternal spring \" \" garden city \" spring - like temperatures year round .',\n",
              " 'known \" la llajta , \" means \" town \" quechua .',\n",
              " 'largest urban center higher capital la paz santa cruz de la sierra tropical plains east .',\n",
              " 'sits south - west tunari mountains , north foothills valle alto .',\n",
              " 'antiquity , area featured numerous lakes , gave city .',\n",
              " 'lakes disappeared urban development , coña coña alalay lakes extant examples .',\n",
              " 'populated settlement pre - inca period , today important cultural , educational , political , commercial centre .',\n",
              " 'pre - inca inca cochabamba valley inhabited thousands years fertile productive soils mild climate .',\n",
              " 'archaeological evidence suggests initial inhabitants indigenous ethnic groups : tiwanaku , tupuraya , mojocoya , omereque , inca inhabited valley times spanish arrived.the area got quechua kochaj - pampa , inca civilization .',\n",
              " 'area conquered topa inca yupanqui .',\n",
              " 'son huayna capac turned cochabamba large production enclave state farm serve incas .',\n",
              " 'local population possibly depleted inca conquest huayna capac imported 14,000 people , called mitimas , work land .',\n",
              " 'principal crop maize grown high cold heartland inca empire .',\n",
              " 'maize stored 2,400 storehouses   hills overlooking valley transported llama caravan storage sites paria , cusco , inca administrative centres .  ',\n",
              " 'maize probably sustain inca army campaigns .',\n",
              " 'spanish bolivian spanish inhabitant valley garci ruiz de orellana 1542 .',\n",
              " 'purchased majority land local tribal chiefs achata consavana title registered 1552 imperial city potosí .',\n",
              " 'price paid 130 pesos .',\n",
              " 'residence , known house mayorazgo , stands cala cala neighbourhood.the city , called villa de oropesa , founded 2 august 1571 order viceroy francisco de toledo , count oropesa .',\n",
              " 'agricultural production centre provide food wood mining towns relatively nearby altiplano region , particularly potosí largest richest cities world 16th 17th centuries — funding vast wealth ultimately spain world power .',\n",
              " 'fact , anthropologist jack weatherford cited city potosí birth capitalism money materialism provided spain .',\n",
              " ', silver mining industry potosí height , cochabamba thrived centuries .',\n",
              " \", city entered period decline 18th century mining began wane.in 1786 , king charles iii spain renamed city ' loyal valiant ' villa cochabamba .\",\n",
              " 'commend city pivotal role suppressing indigenous rebellions 1781 oruro sending armed forces oruro quell uprisings .',\n",
              " 'late 19th century generally successful agricultural centre bolivia.the 1793 census shows city population 22,305 persons .',\n",
              " '12,980 mestizos , 6,368 spaniards , 1,182 indigenous natives , 1,600 mulattos 175 african slaves.in 1812 , cochabamba site riot spanish army .',\n",
              " '27 , thousands women took arms spanish .',\n",
              " 'according historian nathaniel aguirre : \" cochabamba , men fled .',\n",
              " 'woman .',\n",
              " 'hillside , great clamour .',\n",
              " 'cochabamba plebeian women , bay , fight centre circle fire .',\n",
              " 'surrounded thousand spaniards , resist battered tin guns arquebuses ; fight yell , echoes resound long war independence .',\n",
              " 'army weakens , general manuel belgrano shout words fail restore courage spark anger .',\n",
              " 'general ask vacillating soldiers : \\' women cochabamba present?\"to celebrate bravery , bolivia marks 27 mother day.in 1900 , population 21,886.besides number schools charitable institutions , catholic diocese 55 parishes , 80 churches chapels , 160 priests.in 1998 , international monetary fund   agreed bolivia loan $ 138 million control inflation promote economic growth .',\n",
              " ', agreed condition bolivia sell \" remaining public enterprises , \" including national oil refineries local water company , semapa .',\n",
              " '1999 , group private investors , specifically bechtel corporation headquarters san francisco , california , united states america , came aguas del tunari bought rights privatization city water .',\n",
              " 'year , world bank   refused subsidize water help lower cost people .',\n",
              " '2000 , people cochabamba began protest water priced hiked 50 % increase majority afford .',\n",
              " 'coalition defense water life , leader oscar olivera , started demonstration la plaza 14 de septiembre known la plaza principal .',\n",
              " 'march meant peaceful , days police tear gas protestors injured 175 people killed 1 blinded .',\n",
              " 'soon , news reports protests violence .',\n",
              " 'defense water life held unofficial referendum 96 % 50,000 people wanted aguas del tunari contract terminate , government refused .',\n",
              " 'protests grew entire world began watch forcing bechtel leave contract return semapa public .',\n",
              " 'bechtel tried sue bolivian government $ 50 million withdrew claim shortly .',\n",
              " 'event soon labelled water wars driving force anti - globalization projects un decision water sanitation human right privatisation water unethical 2010 .',\n",
              " 'additionally , water wars help spark revolt privatisation natural gases 2003 2005 lead removal presidents , gonzalo sánchez de lozada carlos mesa , rise president evo morales 2006.in january 2007 , city dwellers clashed rural protestors , leaving dead 130 injured .',\n",
              " 'democratically elected prefect cochabamba , manfred reyes villa , allied leaders bolivia eastern departments dispute president evo morales regional autonomy political issues .',\n",
              " 'protestors blockaded highways , bridges , main roads , having days earlier set fire departmental seat government , trying force resignation reyes villa .',\n",
              " 'citizens attacked protestors , breaking blockade routing , police little stop violence .',\n",
              " 'attempts protestors reinstate blockade threaten government unsuccessful , underlying tensions resolved.in july 2007 , monument erected veterans january protest movement honour killed injured government supporters destroyed middle night , reigniting racial conflicts city.in august 2008 , nationwide referendum held .',\n",
              " 'prefect cochabamba , manfred reyes villa , confirmed voters department .',\n",
              " 'mayor cochabamba 2018 josé maría leyes.cochabamba known \" eternal spring \" .',\n",
              " 'experiencing humid heat santa cruz frigid winds la paz , cochabamba experiences semi - arid climate , bordering subtropical highland climate .',\n",
              " 'characteristic climate extended dry season runs october wet season generally begins november principal rains ending march.cochabamba known heart bolivia gastronomic capital .',\n",
              " 'traditional cuisine includes : salteñas , chuño , tucumanas , pique macho , silpancho , anticucho , sopa de mani , chicharrón , charke , fricasé , rellenos de papa dishes.the international street art festival known bau   hosted cochabamba years 2011 .',\n",
              " 'festival organized proyecto martadero , local cultural centre .',\n",
              " '2011 , 2013 , 2015 , 2017 painting villa coronilla , geronimo de osorio neighbourhoods .',\n",
              " '2019 festival focused neighbourhood esperanza , edge alalay lake .',\n",
              " 'festival featured internationally renowned artists blu   inti .commensurate large cities andean highlands south america , cochabamba city contrasts .',\n",
              " 'central commercial districts , zona norte , bounded plaza colón plaza 14 de septiembre , generally equipped modern urban amenities majority city formal business commercial industries based .',\n",
              " 'la cancha , largest open - air market south america , active place locals buy range items .',\n",
              " 'active nightlife centered calle españa broad , tree - lined boulevard , el prado .',\n",
              " 'contrast , zona sur , remote area adjacent wilstermann international airport visibly impoverished , adobe homes unpaved roads , impression visitors acquire commuting city.in 2009 , government president evo morales created new constitution declared spanish 36 indigenous languages official languages country .',\n",
              " ', widely spoken languages cochabamba spanish quechua .',\n",
              " 'spanish spoken cochabamba region generally regarded conservative phonetics vocabulary , use quechua terminology   widely incorporated standardized form.as cities globe , english increasingly spoken understood , particularly business - minded indigenous repatriated cochabambinos .',\n",
              " 'english - language instruction incorporated private schools universities taught universally , vast majority population speak english.about - fifths population bolivia identifies catholic.like cities share ethnic group quadrants like salta cuenca , cochabamba demographics consist following visible groups order prevalence : indigenous   people , mestizo , mixed indigenous spanish european , people spanish   european descent .',\n",
              " 'fairly significant population afro-bolivians.by 2013 , human development index metropolitan region cochabamba 0.801 result 35 % growth 20 years.cochabamba , formally municipality cercado , capital cochabamba department .',\n",
              " 'city government divided executive legislative branches .',\n",
              " 'mayor cochabamba head city government , elected general election term years .',\n",
              " 'mayor heads executive branch , includes sub - mayors variety departments comprising 950 functionaries .',\n",
              " '11 - member municipal council legislative branch.the current mayor josé maría leyes social democrat movement . \\t\\t\\t\\t',\n",
              " 'area cochabamba situated commonly referred granary bolivia .',\n",
              " 'climate milder altiplano region west permits extensive agriculture , including grains , potatoes , coffee highlands sugar cane , cocoa beans , tobacco , fruit chapare tropical lowlands south american amazon region , area country main coca - leaf - producing regions.cochabamba industrial hub bolivia , producing cars , cleaning products , cosmetics , chemicals , items like cement .',\n",
              " 'economy cochabamba characterized producing goods services .',\n",
              " 'recently , software industry increasingly important .',\n",
              " 'international companies like goja assuresoft subsidiaries cochabamba .',\n",
              " 'industry growth , cochabamba called \" silicon valley bolivia \" , high demand professionals immersed technological careers systems engineering , telecommunications information technology.the airline boliviana de aviación headquarters cochabamba .',\n",
              " 'defunct airline lloyd aéreo boliviano   management offices grounds jorge wilstermann airport cochabamba .',\n",
              " 'cochabamba construction rapidly increasing couple years 750 construction sites year.narcotrafic controlled cochabamba , related cocaine dealers years ago.the metropolitan area cochabamba   extensive transportation system , cover districts.there 70 bus minibus lines , z , dozens minibuses fixed - route trufis   taxi lines .',\n",
              " 'lines gps system monitoring regulation hour .',\n",
              " 't.ru.fi service 60 lines ; identified signs roof vehicle showing route initial stop final stop , indicated line number belongs .',\n",
              " 'busiest bus lines : line \" q \" line \" w \" line \" 3v\"line \" b \" line \" k\"line \" x-10\"line',\n",
              " '\" 36\"line \" 1\"line \" 30\"line \" 13\"line \" z-12 \" busiest trufi taxi lines : taxi trufi \" 110\"taxi trufi \" 260 \" taxi trufi \" 270 \" taxi trufi \" 103 \" taxi trufi \" 106 \" taxi trufi \" 130 \" taxi trufi \" 209 \"   taxi trufi \" 123\"taxi trufi \" 224 \" taxi trufi \" 240 \" taxi trufi \" 244 \" taxi trufi \" 115 \" light rail construction interurban light rail network known mi tren linking cochabamba suticollo , el castillo san simon university began 2017 .',\n",
              " 'opening red line phase green line took place september 13 , 2022.emsa , municipal sanitation company , responsible pickup , transportation , storage removed urban waste produced .',\n",
              " 'emsa covers 88 % city collects 400 tonnes waste produced day .',\n",
              " 'municipal government cochabamba , special containers available city storage solid waste common .',\n",
              " \"municipality sole disposal facility , k'ara k'ara waste dump , centre long - running controversy pollution air groundwater ; frequently blockaded neighbouring residents demanding changes .\",\n",
              " 'print media newspapers cochabamba : los tiemposopiniónla vozgente radio stations main radio stations scattered department capital : estrella fm 93,1centro ltda.mega djmileniola voz del junokancha parlaspabandera tricolorcochabambagaviota doradadel vallesan rafaella voz del valle - punatacontinentalorotriunfo morenaepocala verdad f.m.100.7m&d comunicacionesuniversalfantástico 97.1panorama fm 90.9punata radio panorama fm 88.9fm-100 clásicafm stereo 98.7 – la voz de américabethel ffm 95.5ritmo 97.5la triple nueve 99.9la fabrica de la musica 107.1magnal de capinotaradios fides cochabamba , punata y chaparecepra pongo khasa 1,390 amsonido lider 95.9',\n",
              " 'fmpio xii fm 97.9mundialporvenirradio cosmos de boliviacepra - centro de producción radiofónicacepra - radio morochotaenlaceradio hit 105.7radio disney bolivia television channels capital department television channels broadcast local , provincial , national international day .',\n",
              " 'transmission towers transmit channels nationally internationally high cala cala , villa moscu villa taquiña.canal 2 : canal 2 cochabamba corazón de américa canal 4 : red atb canal 5 : red bolivisión canal 7 : bolivia tv canal 9 : red uno de bolivia canal 11::tvu canal 13 : red unitel canal 15 : archived 2010 - 02 - 08 wayback machine cristo viene la red canal 17 : sko tv canal 18 : radio televisión popular   canal 20 : piñami de comunicaciones canal 21 : archived 2019 - 05 - 02 wayback machine tele c canal 24 : red advenir internacional canal 26 : metro tv canal 27 : sistema cristiano de comunicaciones canal 30 : 30 tv canal 36 : cadena canal 39 : univalle tv canal 42 : red pat canal 45 : abya yala television canal 48 : red unitepc canal 51 : mtv cochabambacanal 57 : rtl canal de noticiasthe city home university san simón , largest prominent public universities bolivia .',\n",
              " 'umss second best university bolivia according qs world university rankings 2013 measured web metric scores 2013–2017 .',\n",
              " 'private universities bolivia ranking universidad privada boliviana , universidad del valle     universidad católica boliviana \" san pablo \" .',\n",
              " '- ranked universities include escuela militar de ingenieria \" antonio jose de sucre \" , universidad simón i. patiño , universidad de aquino bolivia , universidad adventista de bolivia , universidad privada domingo savio universidad privada abierta latinoamericana .',\n",
              " 'cochabamba second recipient city brazilian students bolivia city santa cruz , affordable good living conditions city .',\n",
              " ', cochabamba home best schools bolivia , colegio san agustín.cochabamba served modern jorge wilstermann international airport , handles domestic international flights .',\n",
              " 'houses headquarters boliviana de aviación   bolivia national airline , past , lloyd aéreo boliviano , bolivia national airline .',\n",
              " 'domestic airlines serve airport include línea aérea amaszonas , ecojet transporte aéreo militar.cochabamba steadily emerging market bolivian real estate industry .',\n",
              " '2010 , city surface area construction bolivia overpassing santa cruz la paz .  ',\n",
              " 'middle large buildings construction 2012 .',\n",
              " 'annual mild climate , abundant greenery , mountain vistas , progressive local economy factors contributed city appeal bolivian nationals , expatriates foreigners alike .',\n",
              " 'historic affluent neighbourhoods cala cala , el mirador , lomas de aranjuez showcase city distinguished residences.queru queru - northla recoleta - northcala cala - northlomas de aranjuez - northel mirador - northlas brisas - northsarco - northwestmayorazgo - northwestbarrio profesional - northwestamerica oeste - northwestcolquiri - northwestmuyurina - northeasttupuraya - northeasthippodromo - westvilla busch - westtemporal - northla chimba - southwestaeropuerto - southwestticti norte - fringe northjaihuayco - southzona sud - southticti - southvalle hermoso - southcochabamba connected following towns cities : quillacollosacabavintocolcapirhuatiquipayaclizatarataironcollopunatacochabamba mentioned documentary corporation , fight privatisation water foreign - owned company , people protested won .',\n",
              " 'privatisation gone extent rainwater allowed collected .',\n",
              " 'read cochabamba protests 2000.cochabamba confirmed seat future south american parliament formed',\n",
              " 'unasur . unasur determine composition parliament , existing treaties agree meet cochabamba.cochabamba place rugby union bolivia formally established.cochabamba featured location story 1983 film , scarface .',\n",
              " 'powerful drug lord alejandro sosa resided , governed large coca plantations owned cocaine labs refining , shipped tony montana florida.cochabamba setting 2010 movie también la lluvia , takes place water war 2000 .',\n",
              " 'depicts crew making movie colonization latin america protests privatization erupt .',\n",
              " 'film stars mexican actor gael garcía bernal , received positive reviews.cochabamba site major spammers , confirmed watchdog group spamhaus .',\n",
              " 'business people simón iturri patiño , mining magnateeducators intellectualsjaime escalante , professor teacher life dramatized 1988 film stand deliverrenato prada oropeza , professor , semiologist , writerthäddeus haenke , botanist musicians katia escalera , sopranojaime laredo , , classical violinistlos kjarkas , cochabambino folk music group literature nataniel aguirre , authoradela zamudio , author poetjesús lara , author poetgaby',\n",
              " 'vallejo canedo , author , professor literatureedmundo paz soldán ,   authormarcelo quiroga santa cruz , author politicianjavier del granado , poet laureatejulia urquidi , writer , remembered mario vargas llosa wiferenato prada oropeza , novelist poetsara ugarte de salamanca , poet memorial built heroines 1812óscar únzaga de la vega , journalist historian oscar olivera , environmental activist nazis klaus barbie , german ss gestapo functionarycochabamba twinned : world people conference climate change2000 cochabamba',\n",
              " 'protestsfreternindad folklórica y cultural caporales universitarios de san simon2018 south american gamesmollinedo , arthenio .',\n",
              " '\" aspectos generales de la poblacion boliviana \"    .',\n",
              " 'bolivian catholic university — san pablo . archived original   2014 - 02 - 04 .',\n",
              " 'retrieved 27 january 2014.oficina nacional de inmigración .',\n",
              " 'censo general de la población de la república de bolivia según el empadronamiento de 1e .',\n",
              " 'de septiembre de 1900   .',\n",
              " 'la paz , bolivia : jm gamarra .',\n",
              " 'oclc 8837699 .',\n",
              " 'retrieved 28 january 2014.zambrana , jorge .',\n",
              " 'la urbanización de la ciudad de cochabamba : examen crítico   .',\n",
              " 'college architects bolivia .',\n",
              " 'oclc 1247798.weather cochabambathe history cochabamba cbba.info archived 2020 - 10 - 23 wayback machine map cochabamba city']"
            ]
          },
          "metadata": {},
          "execution_count": 12
        }
      ]
    },
    {
      "cell_type": "code",
      "source": [
        "#imprimimos la cantidad de de oraciones \n",
        "len(cleaned_sentences)"
      ],
      "metadata": {
        "colab": {
          "base_uri": "https://localhost:8080/"
        },
        "id": "9eKg_SOMPvuY",
        "outputId": "ee70eed8-ab43-43ee-bf8d-8640bcee9e22"
      },
      "execution_count": 13,
      "outputs": [
        {
          "output_type": "execute_result",
          "data": {
            "text/plain": [
              "124"
            ]
          },
          "metadata": {},
          "execution_count": 13
        }
      ]
    },
    {
      "cell_type": "markdown",
      "source": [
        "##Vectorizacion"
      ],
      "metadata": {
        "id": "5csT9Qdo6TFl"
      }
    },
    {
      "cell_type": "code",
      "source": [
        "#Transformamos vectores\n",
        "X = [nlp(sentence).vector for sentence in cleaned_sentences]#creamos vectores delas oraciones limpias con Spacy usando el metodo vector\n",
        "\n",
        "#Normalizamos el Tamano de los Vectores de X para entrenar en un modelo de Machine Learning\n",
        "vector_size = len(X[0])#calculamos el tamano del 1er Vector\n",
        "\n",
        "#creamos un buclue que recorre X y rellena el vector con 0  si tiene una longitud menor a vecto_size\n",
        "for i in range(len(X)):\n",
        "    if len(X[i]) < vector_size:\n",
        "        X[i] = np.pad(X[i], (0, vector_size - len(X[i])), mode='constant')\n",
        "\n",
        "#convertimos el vector de Spacy en un vector de Numpy para entrenar el modelo\n",
        "X = np.array(X)\n"
      ],
      "metadata": {
        "id": "EDjI4SE0rZKr"
      },
      "execution_count": 14,
      "outputs": []
    },
    {
      "cell_type": "code",
      "source": [
        "print(X)"
      ],
      "metadata": {
        "colab": {
          "base_uri": "https://localhost:8080/"
        },
        "id": "C70b8IJBQe2Z",
        "outputId": "9347357e-9751-45cf-eb5b-bb3b76aa9355"
      },
      "execution_count": 15,
      "outputs": [
        {
          "output_type": "stream",
          "name": "stdout",
          "text": [
            "[[ 0.800116   -0.19890665  0.27203834 ...  1.0547738   0.3375662\n",
            "   0.86240077]\n",
            " [ 0.3025392   0.17308742  0.11357369 ...  0.28451484  0.2793358\n",
            "   0.62801844]\n",
            " [ 0.03588933  0.3417285   0.5869073  ...  0.16604733 -0.05921127\n",
            "   0.6622886 ]\n",
            " ...\n",
            " [ 0.98168546  0.04740571  0.48054156 ...  1.1087029   0.20555031\n",
            "   1.3457665 ]\n",
            " [ 0.5517541  -0.17330095  0.01242772 ...  0.28386992  0.7687798\n",
            "   0.05830552]\n",
            " [ 0.5091643  -0.13902938 -0.32968077 ...  1.0509195   0.290488\n",
            "   0.5217196 ]]\n"
          ]
        }
      ]
    },
    {
      "cell_type": "markdown",
      "source": [
        "##COSSINE SIMILARITY"
      ],
      "metadata": {
        "id": "-IJPUoYFAmzA"
      }
    },
    {
      "cell_type": "code",
      "source": [
        "similarity_matrix = cosine_similarity(X)#se calcula  la matriz de similitud entre las oraciones de sus vectores\n",
        "np.fill_diagonal(similarity_matrix, 0)"
      ],
      "metadata": {
        "id": "huINN6hrsAcD"
      },
      "execution_count": 16,
      "outputs": []
    },
    {
      "cell_type": "markdown",
      "source": [
        "##Random Forest"
      ],
      "metadata": {
        "id": "fwWiCeneBpzn"
      }
    },
    {
      "cell_type": "code",
      "source": [
        "# Se entrenara un modelo de regresión aleatoria para predecir la importancia de cada oración\n",
        "\n",
        "y = np.sum(similarity_matrix, axis=1)#Calcula la puntuacion de importacia de cada oracion con las demas oraciones\n",
        "X_train, X_test, y_train, y_test = train_test_split(similarity_matrix, y, test_size=0.80, random_state=123)#dividimos los vectores en entrenamiento y prueba \n",
        "\n",
        "\n",
        "#aplicamos y entrenamos el modelo Random Forest\n",
        "rf_model = RandomForestRegressor(random_state=123)\n",
        "rf_model.fit(X_train, y_train)"
      ],
      "metadata": {
        "colab": {
          "base_uri": "https://localhost:8080/",
          "height": 0
        },
        "id": "xAeCL9S2WVDL",
        "outputId": "d2067912-c84b-405b-ba18-5058a49081d3"
      },
      "execution_count": 17,
      "outputs": [
        {
          "output_type": "execute_result",
          "data": {
            "text/plain": [
              "RandomForestRegressor(random_state=123)"
            ],
            "text/html": [
              "<style>#sk-container-id-1 {color: black;background-color: white;}#sk-container-id-1 pre{padding: 0;}#sk-container-id-1 div.sk-toggleable {background-color: white;}#sk-container-id-1 label.sk-toggleable__label {cursor: pointer;display: block;width: 100%;margin-bottom: 0;padding: 0.3em;box-sizing: border-box;text-align: center;}#sk-container-id-1 label.sk-toggleable__label-arrow:before {content: \"▸\";float: left;margin-right: 0.25em;color: #696969;}#sk-container-id-1 label.sk-toggleable__label-arrow:hover:before {color: black;}#sk-container-id-1 div.sk-estimator:hover label.sk-toggleable__label-arrow:before {color: black;}#sk-container-id-1 div.sk-toggleable__content {max-height: 0;max-width: 0;overflow: hidden;text-align: left;background-color: #f0f8ff;}#sk-container-id-1 div.sk-toggleable__content pre {margin: 0.2em;color: black;border-radius: 0.25em;background-color: #f0f8ff;}#sk-container-id-1 input.sk-toggleable__control:checked~div.sk-toggleable__content {max-height: 200px;max-width: 100%;overflow: auto;}#sk-container-id-1 input.sk-toggleable__control:checked~label.sk-toggleable__label-arrow:before {content: \"▾\";}#sk-container-id-1 div.sk-estimator input.sk-toggleable__control:checked~label.sk-toggleable__label {background-color: #d4ebff;}#sk-container-id-1 div.sk-label input.sk-toggleable__control:checked~label.sk-toggleable__label {background-color: #d4ebff;}#sk-container-id-1 input.sk-hidden--visually {border: 0;clip: rect(1px 1px 1px 1px);clip: rect(1px, 1px, 1px, 1px);height: 1px;margin: -1px;overflow: hidden;padding: 0;position: absolute;width: 1px;}#sk-container-id-1 div.sk-estimator {font-family: monospace;background-color: #f0f8ff;border: 1px dotted black;border-radius: 0.25em;box-sizing: border-box;margin-bottom: 0.5em;}#sk-container-id-1 div.sk-estimator:hover {background-color: #d4ebff;}#sk-container-id-1 div.sk-parallel-item::after {content: \"\";width: 100%;border-bottom: 1px solid gray;flex-grow: 1;}#sk-container-id-1 div.sk-label:hover label.sk-toggleable__label {background-color: #d4ebff;}#sk-container-id-1 div.sk-serial::before {content: \"\";position: absolute;border-left: 1px solid gray;box-sizing: border-box;top: 0;bottom: 0;left: 50%;z-index: 0;}#sk-container-id-1 div.sk-serial {display: flex;flex-direction: column;align-items: center;background-color: white;padding-right: 0.2em;padding-left: 0.2em;position: relative;}#sk-container-id-1 div.sk-item {position: relative;z-index: 1;}#sk-container-id-1 div.sk-parallel {display: flex;align-items: stretch;justify-content: center;background-color: white;position: relative;}#sk-container-id-1 div.sk-item::before, #sk-container-id-1 div.sk-parallel-item::before {content: \"\";position: absolute;border-left: 1px solid gray;box-sizing: border-box;top: 0;bottom: 0;left: 50%;z-index: -1;}#sk-container-id-1 div.sk-parallel-item {display: flex;flex-direction: column;z-index: 1;position: relative;background-color: white;}#sk-container-id-1 div.sk-parallel-item:first-child::after {align-self: flex-end;width: 50%;}#sk-container-id-1 div.sk-parallel-item:last-child::after {align-self: flex-start;width: 50%;}#sk-container-id-1 div.sk-parallel-item:only-child::after {width: 0;}#sk-container-id-1 div.sk-dashed-wrapped {border: 1px dashed gray;margin: 0 0.4em 0.5em 0.4em;box-sizing: border-box;padding-bottom: 0.4em;background-color: white;}#sk-container-id-1 div.sk-label label {font-family: monospace;font-weight: bold;display: inline-block;line-height: 1.2em;}#sk-container-id-1 div.sk-label-container {text-align: center;}#sk-container-id-1 div.sk-container {/* jupyter's `normalize.less` sets `[hidden] { display: none; }` but bootstrap.min.css set `[hidden] { display: none !important; }` so we also need the `!important` here to be able to override the default hidden behavior on the sphinx rendered scikit-learn.org. See: https://github.com/scikit-learn/scikit-learn/issues/21755 */display: inline-block !important;position: relative;}#sk-container-id-1 div.sk-text-repr-fallback {display: none;}</style><div id=\"sk-container-id-1\" class=\"sk-top-container\"><div class=\"sk-text-repr-fallback\"><pre>RandomForestRegressor(random_state=123)</pre><b>In a Jupyter environment, please rerun this cell to show the HTML representation or trust the notebook. <br />On GitHub, the HTML representation is unable to render, please try loading this page with nbviewer.org.</b></div><div class=\"sk-container\" hidden><div class=\"sk-item\"><div class=\"sk-estimator sk-toggleable\"><input class=\"sk-toggleable__control sk-hidden--visually\" id=\"sk-estimator-id-1\" type=\"checkbox\" checked><label for=\"sk-estimator-id-1\" class=\"sk-toggleable__label sk-toggleable__label-arrow\">RandomForestRegressor</label><div class=\"sk-toggleable__content\"><pre>RandomForestRegressor(random_state=123)</pre></div></div></div></div></div>"
            ]
          },
          "metadata": {},
          "execution_count": 17
        }
      ]
    },
    {
      "cell_type": "code",
      "source": [
        "# Predecimos la importancia de cada oración en el conjunto de prueba utilizando el modelo entrenado\n",
        "y_pred = rf_model.predict(X_test)\n",
        "\n",
        "# Calcular la precisión del modelo en el conjunto de prueba\n",
        "rf_r2 = r2_score(y_test, y_pred)\n",
        "rf_mse = mean_squared_error(y_test, y_pred)"
      ],
      "metadata": {
        "id": "U0EquBgfbkq2"
      },
      "execution_count": 18,
      "outputs": []
    },
    {
      "cell_type": "code",
      "source": [
        "#utilizamos el modelo entrenado de RF para predecir la importancia de cada oracion\n",
        "rf_sentence_scores = rf_model.predict(similarity_matrix)"
      ],
      "metadata": {
        "id": "LqVXIKluWgvg"
      },
      "execution_count": 19,
      "outputs": []
    },
    {
      "cell_type": "code",
      "source": [
        "#imprimimos la importancia que tiene cada oracion donde se espera que las oraciones mas importantes tengas puntajes altos\n",
        "print(rf_sentence_scores)"
      ],
      "metadata": {
        "colab": {
          "base_uri": "https://localhost:8080/"
        },
        "id": "0izJhbFdQ1gJ",
        "outputId": "bed37928-f786-4347-e310-86edb764a7d8"
      },
      "execution_count": 20,
      "outputs": [
        {
          "output_type": "stream",
          "name": "stdout",
          "text": [
            "[74.83915817 75.07461334 58.34165276 65.80142902 51.42711842 70.19087257\n",
            " 70.12559326 55.89679764 73.20508881 58.41703598 75.47019535 74.88321274\n",
            " 68.25515175 74.31784702 65.70369244 74.9761306  76.27717918 62.42079475\n",
            " 75.89695419 77.01959938 51.64847748 70.74080528 70.61706516 74.29666798\n",
            " 71.73151127 79.11259956 74.12814056 66.86369972 61.73730339 49.78248989\n",
            " 62.85223141 47.10231564 48.17493061 75.08073845 55.29561699 74.35363674\n",
            " 73.82968933 62.67301449 73.53635109 64.8841087  59.47317738 76.77815269\n",
            " 58.69035713 50.30566357 70.94110756 59.23875088 61.71148579 76.40906548\n",
            " 75.52937073 76.95371948 61.58948986 59.97514816 74.226623   69.36487858\n",
            " 71.26537781 73.17060791 73.56855904 68.09783043 70.92179848 53.87699497\n",
            " 74.28816074 73.61861237 75.81027302 73.83977188 72.32097038 78.657799\n",
            " 73.31278961 71.44600311 72.97707863 74.45326515 71.88798553 74.33361008\n",
            " 72.60839035 77.06404762 64.66610767 70.63387939 70.95487679 47.10016396\n",
            " 69.94125694 75.94626541 75.8798658  75.26162388 60.75068165 62.78460045\n",
            " 47.90423546 60.53354515 71.46808189 60.17993496 75.27202026 75.17752609\n",
            " 72.7792981  74.38065567 65.40227043 73.8926236  68.62790653 67.47313908\n",
            " 78.53013954 77.94469994 71.02945686 74.99909348 71.03453167 67.3797747\n",
            " 71.41840492 65.43593674 50.15722065 69.23436047 75.81552601 78.28685036\n",
            " 68.98767029 80.56837921 74.79127148 75.27641563 70.99928791 57.96028259\n",
            " 64.56839336 64.07456394 55.8570343  41.63871567 45.37918034 46.0189259\n",
            " 50.65707272 54.56416775 53.83898098 66.51882904]\n"
          ]
        }
      ]
    },
    {
      "cell_type": "code",
      "source": [
        "#Ordenamos las oraciones mas relevantes en orden descendente\n",
        "rf_top_sentences = sorted(range(len(rf_sentence_scores)), key=lambda i: rf_sentence_scores[i], reverse=True)[:10]#seleccinamos las 5 oraciones mas relevantes\n",
        "print(rf_top_sentences)#imprimios del total de oraciones, que oraciones son las mas relevantes\n"
      ],
      "metadata": {
        "id": "UJSeKUVksDPq",
        "colab": {
          "base_uri": "https://localhost:8080/"
        },
        "outputId": "268d6e89-6182-4bf2-9226-a7feaa47b86c"
      },
      "execution_count": 21,
      "outputs": [
        {
          "output_type": "stream",
          "name": "stdout",
          "text": [
            "[109, 25, 65, 96, 107, 97, 73, 19, 49, 41]\n"
          ]
        }
      ]
    },
    {
      "cell_type": "code",
      "source": [
        "#de la lista de oraciones originales tomamos las las 5 oraciones de top_sentence\n",
        "rf_summary = [sentences[i].text for i in rf_top_sentences]\n",
        "print(rf_summary)#imprimimos las 5 oraciones  "
      ],
      "metadata": {
        "colab": {
          "base_uri": "https://localhost:8080/"
        },
        "id": "BnqdMeJqHiNp",
        "outputId": "e5c4b2c1-c4ee-43cb-9345-e395fa100459"
      },
      "execution_count": 22,
      "outputs": [
        {
          "output_type": "stream",
          "name": "stdout",
          "text": [
            "['the film stars mexican actor gael garcía bernal, and received positive reviews.cochabamba is also the site of several major spammers, as confirmed by the watchdog group spamhaus.', \"however, the city entered a period of decline during the 18th century as mining began to wane.in 1786, king charles iii of spain renamed the city the 'loyal and valiant' villa of cochabamba.\", 'in contrast, the zona sur, a remote area adjacent to the wilstermann international airport is visibly impoverished, with adobe homes and unpaved roads, which is often the first impression visitors acquire while commuting into the city.in 2009, the government under president evo morales created a new constitution that declared spanish and 36 other indigenous languages as the official languages of the country.', 'cochabamba became the second recipient city of brazilian students in bolivia after the city of santa cruz, due to the affordable and good living conditions of the city.', 'powerful drug lord alejandro sosa resided there, governed large coca plantations and owned cocaine labs whereupon further refining, would be shipped to tony montana in florida.cochabamba is the setting of the 2010 movie también la lluvia , which takes place during the water war of 2000.', 'also, cochabamba is the home of one of the best schools of bolivia, colegio san agustín.cochabamba is served by the modern jorge wilstermann international airport , which handles domestic and international flights.', 'the 11-member municipal council is the legislative branch.the current mayor is josé maría leyes of the social democrat movement .\\t\\t\\t\\t', 'he purchased the majority of the land from local tribal chiefs achata and consavana through a title registered in 1552 at the imperial city of potosí.', \"the first democratically elected prefect of cochabamba, manfred reyes villa, had allied himself with the leaders of bolivia's eastern departments in a dispute with president evo morales over regional autonomy and other political issues.\", 'the coalition for the defense of water and life, and its leader oscar olivera, started a demonstration in la plaza 14 de septiembre also known as la plaza principal.']\n"
          ]
        }
      ]
    },
    {
      "cell_type": "code",
      "source": [
        "rf_summary = ' '.join(rf_summary)#unimos las oraciones para crear un resumen\n",
        "print(rf_summary)#impresion del resumen"
      ],
      "metadata": {
        "id": "V_u-NrmgsK6i",
        "colab": {
          "base_uri": "https://localhost:8080/"
        },
        "outputId": "1f4d1865-8cb6-451b-bd3c-bab3650d1b8a"
      },
      "execution_count": 23,
      "outputs": [
        {
          "output_type": "stream",
          "name": "stdout",
          "text": [
            "the film stars mexican actor gael garcía bernal, and received positive reviews.cochabamba is also the site of several major spammers, as confirmed by the watchdog group spamhaus. however, the city entered a period of decline during the 18th century as mining began to wane.in 1786, king charles iii of spain renamed the city the 'loyal and valiant' villa of cochabamba. in contrast, the zona sur, a remote area adjacent to the wilstermann international airport is visibly impoverished, with adobe homes and unpaved roads, which is often the first impression visitors acquire while commuting into the city.in 2009, the government under president evo morales created a new constitution that declared spanish and 36 other indigenous languages as the official languages of the country. cochabamba became the second recipient city of brazilian students in bolivia after the city of santa cruz, due to the affordable and good living conditions of the city. powerful drug lord alejandro sosa resided there, governed large coca plantations and owned cocaine labs whereupon further refining, would be shipped to tony montana in florida.cochabamba is the setting of the 2010 movie también la lluvia , which takes place during the water war of 2000. also, cochabamba is the home of one of the best schools of bolivia, colegio san agustín.cochabamba is served by the modern jorge wilstermann international airport , which handles domestic and international flights. the 11-member municipal council is the legislative branch.the current mayor is josé maría leyes of the social democrat movement .\t\t\t\t he purchased the majority of the land from local tribal chiefs achata and consavana through a title registered in 1552 at the imperial city of potosí. the first democratically elected prefect of cochabamba, manfred reyes villa, had allied himself with the leaders of bolivia's eastern departments in a dispute with president evo morales over regional autonomy and other political issues. the coalition for the defense of water and life, and its leader oscar olivera, started a demonstration in la plaza 14 de septiembre also known as la plaza principal.\n"
          ]
        }
      ]
    },
    {
      "cell_type": "code",
      "source": [
        "#imprimos la cantidad de caracteres del Resumen con Random Forest\n",
        "print(\"Cantidad de caracteres del Resumen con Random Forest:\", len(rf_summary))\n",
        "print(\"Cantidad de caracteres del Texto original:\", len(text))"
      ],
      "metadata": {
        "colab": {
          "base_uri": "https://localhost:8080/"
        },
        "id": "n9mPSM9JRVfq",
        "outputId": "610f3213-a613-4aca-abc8-02830dd2907a"
      },
      "execution_count": 24,
      "outputs": [
        {
          "output_type": "stream",
          "name": "stdout",
          "text": [
            "Cantidad de caracteres del Resumen con Random Forest: 2141\n",
            "Cantidad de caracteres del Texto original: 23034\n"
          ]
        }
      ]
    },
    {
      "cell_type": "markdown",
      "source": [
        "#Gradient Boosting"
      ],
      "metadata": {
        "id": "IfPVL0MMMya6"
      }
    },
    {
      "cell_type": "code",
      "source": [
        "#aplicamos y entrenamos el modelo\n",
        "gb_model = GradientBoostingRegressor(random_state=123)\n",
        "gb_model.fit(X_train, y_train)"
      ],
      "metadata": {
        "colab": {
          "base_uri": "https://localhost:8080/",
          "height": 0
        },
        "id": "c6s7sHplNGdS",
        "outputId": "5405a8b6-5e98-491d-f581-ab9e16408267"
      },
      "execution_count": 25,
      "outputs": [
        {
          "output_type": "execute_result",
          "data": {
            "text/plain": [
              "GradientBoostingRegressor(random_state=123)"
            ],
            "text/html": [
              "<style>#sk-container-id-2 {color: black;background-color: white;}#sk-container-id-2 pre{padding: 0;}#sk-container-id-2 div.sk-toggleable {background-color: white;}#sk-container-id-2 label.sk-toggleable__label {cursor: pointer;display: block;width: 100%;margin-bottom: 0;padding: 0.3em;box-sizing: border-box;text-align: center;}#sk-container-id-2 label.sk-toggleable__label-arrow:before {content: \"▸\";float: left;margin-right: 0.25em;color: #696969;}#sk-container-id-2 label.sk-toggleable__label-arrow:hover:before {color: black;}#sk-container-id-2 div.sk-estimator:hover label.sk-toggleable__label-arrow:before {color: black;}#sk-container-id-2 div.sk-toggleable__content {max-height: 0;max-width: 0;overflow: hidden;text-align: left;background-color: #f0f8ff;}#sk-container-id-2 div.sk-toggleable__content pre {margin: 0.2em;color: black;border-radius: 0.25em;background-color: #f0f8ff;}#sk-container-id-2 input.sk-toggleable__control:checked~div.sk-toggleable__content {max-height: 200px;max-width: 100%;overflow: auto;}#sk-container-id-2 input.sk-toggleable__control:checked~label.sk-toggleable__label-arrow:before {content: \"▾\";}#sk-container-id-2 div.sk-estimator input.sk-toggleable__control:checked~label.sk-toggleable__label {background-color: #d4ebff;}#sk-container-id-2 div.sk-label input.sk-toggleable__control:checked~label.sk-toggleable__label {background-color: #d4ebff;}#sk-container-id-2 input.sk-hidden--visually {border: 0;clip: rect(1px 1px 1px 1px);clip: rect(1px, 1px, 1px, 1px);height: 1px;margin: -1px;overflow: hidden;padding: 0;position: absolute;width: 1px;}#sk-container-id-2 div.sk-estimator {font-family: monospace;background-color: #f0f8ff;border: 1px dotted black;border-radius: 0.25em;box-sizing: border-box;margin-bottom: 0.5em;}#sk-container-id-2 div.sk-estimator:hover {background-color: #d4ebff;}#sk-container-id-2 div.sk-parallel-item::after {content: \"\";width: 100%;border-bottom: 1px solid gray;flex-grow: 1;}#sk-container-id-2 div.sk-label:hover label.sk-toggleable__label {background-color: #d4ebff;}#sk-container-id-2 div.sk-serial::before {content: \"\";position: absolute;border-left: 1px solid gray;box-sizing: border-box;top: 0;bottom: 0;left: 50%;z-index: 0;}#sk-container-id-2 div.sk-serial {display: flex;flex-direction: column;align-items: center;background-color: white;padding-right: 0.2em;padding-left: 0.2em;position: relative;}#sk-container-id-2 div.sk-item {position: relative;z-index: 1;}#sk-container-id-2 div.sk-parallel {display: flex;align-items: stretch;justify-content: center;background-color: white;position: relative;}#sk-container-id-2 div.sk-item::before, #sk-container-id-2 div.sk-parallel-item::before {content: \"\";position: absolute;border-left: 1px solid gray;box-sizing: border-box;top: 0;bottom: 0;left: 50%;z-index: -1;}#sk-container-id-2 div.sk-parallel-item {display: flex;flex-direction: column;z-index: 1;position: relative;background-color: white;}#sk-container-id-2 div.sk-parallel-item:first-child::after {align-self: flex-end;width: 50%;}#sk-container-id-2 div.sk-parallel-item:last-child::after {align-self: flex-start;width: 50%;}#sk-container-id-2 div.sk-parallel-item:only-child::after {width: 0;}#sk-container-id-2 div.sk-dashed-wrapped {border: 1px dashed gray;margin: 0 0.4em 0.5em 0.4em;box-sizing: border-box;padding-bottom: 0.4em;background-color: white;}#sk-container-id-2 div.sk-label label {font-family: monospace;font-weight: bold;display: inline-block;line-height: 1.2em;}#sk-container-id-2 div.sk-label-container {text-align: center;}#sk-container-id-2 div.sk-container {/* jupyter's `normalize.less` sets `[hidden] { display: none; }` but bootstrap.min.css set `[hidden] { display: none !important; }` so we also need the `!important` here to be able to override the default hidden behavior on the sphinx rendered scikit-learn.org. See: https://github.com/scikit-learn/scikit-learn/issues/21755 */display: inline-block !important;position: relative;}#sk-container-id-2 div.sk-text-repr-fallback {display: none;}</style><div id=\"sk-container-id-2\" class=\"sk-top-container\"><div class=\"sk-text-repr-fallback\"><pre>GradientBoostingRegressor(random_state=123)</pre><b>In a Jupyter environment, please rerun this cell to show the HTML representation or trust the notebook. <br />On GitHub, the HTML representation is unable to render, please try loading this page with nbviewer.org.</b></div><div class=\"sk-container\" hidden><div class=\"sk-item\"><div class=\"sk-estimator sk-toggleable\"><input class=\"sk-toggleable__control sk-hidden--visually\" id=\"sk-estimator-id-2\" type=\"checkbox\" checked><label for=\"sk-estimator-id-2\" class=\"sk-toggleable__label sk-toggleable__label-arrow\">GradientBoostingRegressor</label><div class=\"sk-toggleable__content\"><pre>GradientBoostingRegressor(random_state=123)</pre></div></div></div></div></div>"
            ]
          },
          "metadata": {},
          "execution_count": 25
        }
      ]
    },
    {
      "cell_type": "code",
      "source": [
        "y_pred = gb_model.predict(X_test)"
      ],
      "metadata": {
        "id": "H2UGIAmrNnjk"
      },
      "execution_count": 26,
      "outputs": []
    },
    {
      "cell_type": "code",
      "source": [
        "gb_r2 = r2_score(y_test, y_pred)\n",
        "gb_mse = mean_squared_error(y_test, y_pred)"
      ],
      "metadata": {
        "id": "_4GNXywZNufY"
      },
      "execution_count": 27,
      "outputs": []
    },
    {
      "cell_type": "code",
      "source": [
        "# Entrenamos el modelo entrenado en matriz de similitud\n",
        "gb_sentence_scores = gb_model.predict(similarity_matrix)"
      ],
      "metadata": {
        "id": "u7Gy_4N6N4H8"
      },
      "execution_count": 28,
      "outputs": []
    },
    {
      "cell_type": "code",
      "source": [
        "#Ordenamos las oraciones mas relevantes en orden descendente\n",
        "gb_top_sentences = sorted(range(len(gb_sentence_scores)), key=lambda i: gb_sentence_scores[i], reverse=True)[:10]#seleccinamos las 5 oraciones mas relevantes\n",
        "print(gb_top_sentences)#imprimios del total de oraciones, que oraciones son las mas relevantes"
      ],
      "metadata": {
        "colab": {
          "base_uri": "https://localhost:8080/"
        },
        "id": "TldOLgNTN-KA",
        "outputId": "ad6b19a3-e2b4-4894-90f3-51d9ab89aeb8"
      },
      "execution_count": 29,
      "outputs": [
        {
          "output_type": "stream",
          "name": "stdout",
          "text": [
            "[109, 96, 65, 25, 107, 97, 19, 16, 15, 73]\n"
          ]
        }
      ]
    },
    {
      "cell_type": "code",
      "source": [
        "#de la lista de oraciones originales tomamos las las 5 oraciones de top_sentence\n",
        "gb_summary = [sentences[i].text for i in gb_top_sentences]\n",
        "print(gb_summary)#imprimimos las 5 oraciones  "
      ],
      "metadata": {
        "colab": {
          "base_uri": "https://localhost:8080/"
        },
        "id": "UXGmop8vOCCi",
        "outputId": "64330515-df6d-4c44-fcbc-4cfda832690b"
      },
      "execution_count": 30,
      "outputs": [
        {
          "output_type": "stream",
          "name": "stdout",
          "text": [
            "['the film stars mexican actor gael garcía bernal, and received positive reviews.cochabamba is also the site of several major spammers, as confirmed by the watchdog group spamhaus.', 'cochabamba became the second recipient city of brazilian students in bolivia after the city of santa cruz, due to the affordable and good living conditions of the city.', 'in contrast, the zona sur, a remote area adjacent to the wilstermann international airport is visibly impoverished, with adobe homes and unpaved roads, which is often the first impression visitors acquire while commuting into the city.in 2009, the government under president evo morales created a new constitution that declared spanish and 36 other indigenous languages as the official languages of the country.', \"however, the city entered a period of decline during the 18th century as mining began to wane.in 1786, king charles iii of spain renamed the city the 'loyal and valiant' villa of cochabamba.\", 'powerful drug lord alejandro sosa resided there, governed large coca plantations and owned cocaine labs whereupon further refining, would be shipped to tony montana in florida.cochabamba is the setting of the 2010 movie también la lluvia , which takes place during the water war of 2000.', 'also, cochabamba is the home of one of the best schools of bolivia, colegio san agustín.cochabamba is served by the modern jorge wilstermann international airport , which handles domestic and international flights.', 'he purchased the majority of the land from local tribal chiefs achata and consavana through a title registered in 1552 at the imperial city of potosí.', 'the maize was stored in 2,400 storehouses  in the hills overlooking the valley or transported by llama caravan to storage sites in paria, cusco, of other inca administrative centres.  ', 'the principal crop was maize which could not be grown in much of the high and cold heartland of the inca empire.', 'the 11-member municipal council is the legislative branch.the current mayor is josé maría leyes of the social democrat movement .\\t\\t\\t\\t']\n"
          ]
        }
      ]
    },
    {
      "cell_type": "code",
      "source": [
        "gb_summary = ' '.join(gb_summary)#unimos las oraciones para crear un resumen\n",
        "print(gb_summary)#impresion del resumen"
      ],
      "metadata": {
        "colab": {
          "base_uri": "https://localhost:8080/"
        },
        "id": "NVu72EcCPCpv",
        "outputId": "d8794423-f10c-44e4-d5c6-9fe8b77ef9ee"
      },
      "execution_count": 31,
      "outputs": [
        {
          "output_type": "stream",
          "name": "stdout",
          "text": [
            "the film stars mexican actor gael garcía bernal, and received positive reviews.cochabamba is also the site of several major spammers, as confirmed by the watchdog group spamhaus. cochabamba became the second recipient city of brazilian students in bolivia after the city of santa cruz, due to the affordable and good living conditions of the city. in contrast, the zona sur, a remote area adjacent to the wilstermann international airport is visibly impoverished, with adobe homes and unpaved roads, which is often the first impression visitors acquire while commuting into the city.in 2009, the government under president evo morales created a new constitution that declared spanish and 36 other indigenous languages as the official languages of the country. however, the city entered a period of decline during the 18th century as mining began to wane.in 1786, king charles iii of spain renamed the city the 'loyal and valiant' villa of cochabamba. powerful drug lord alejandro sosa resided there, governed large coca plantations and owned cocaine labs whereupon further refining, would be shipped to tony montana in florida.cochabamba is the setting of the 2010 movie también la lluvia , which takes place during the water war of 2000. also, cochabamba is the home of one of the best schools of bolivia, colegio san agustín.cochabamba is served by the modern jorge wilstermann international airport , which handles domestic and international flights. he purchased the majority of the land from local tribal chiefs achata and consavana through a title registered in 1552 at the imperial city of potosí. the maize was stored in 2,400 storehouses  in the hills overlooking the valley or transported by llama caravan to storage sites in paria, cusco, of other inca administrative centres.   the principal crop was maize which could not be grown in much of the high and cold heartland of the inca empire. the 11-member municipal council is the legislative branch.the current mayor is josé maría leyes of the social democrat movement .\t\t\t\t\n"
          ]
        }
      ]
    },
    {
      "cell_type": "code",
      "source": [
        "#imprimos la cantidad de caracteres del Resumen con Random Forest\n",
        "print(\"Cantidad de caracteres del Resumen con Gradient Boosting:\", len(gb_summary))\n",
        "print(\"Cantidad de caracteres del Texto original:\", len(text))"
      ],
      "metadata": {
        "colab": {
          "base_uri": "https://localhost:8080/"
        },
        "id": "tW4vqpFWOF9Y",
        "outputId": "e88c68cf-0f32-4282-b774-bb311ead44d6"
      },
      "execution_count": 32,
      "outputs": [
        {
          "output_type": "stream",
          "name": "stdout",
          "text": [
            "Cantidad de caracteres del Resumen con Gradient Boosting: 2036\n",
            "Cantidad de caracteres del Texto original: 23034\n"
          ]
        }
      ]
    },
    {
      "cell_type": "markdown",
      "source": [
        "#SVM"
      ],
      "metadata": {
        "id": "t98pD8DmIljR"
      }
    },
    {
      "cell_type": "code",
      "source": [
        "#aplicamos y entrenamos el modelo SVM\n",
        "svr_model = SVR(kernel='linear')\n",
        "svr_model.fit(X_train, y_train)\n",
        "y_pred = svr_model.predict(X_test)"
      ],
      "metadata": {
        "id": "0ojf-mUEInXz"
      },
      "execution_count": 33,
      "outputs": []
    },
    {
      "cell_type": "code",
      "source": [
        "svr_r2 = r2_score(y_test, y_pred)\n",
        "svr_mse = mean_squared_error(y_test, y_pred)"
      ],
      "metadata": {
        "id": "q6wSDgK4I00f"
      },
      "execution_count": 34,
      "outputs": []
    },
    {
      "cell_type": "code",
      "source": [
        "# Entrenamos el modelo entrenado en matriz de similitud\n",
        "svr_sentence_scores = svr_model.predict(similarity_matrix)\n",
        "#Ordenamos las oraciones mas relevantes en orden descendente\n",
        "svr_top_sentences = sorted(range(len(svr_sentence_scores)), key=lambda i: svr_sentence_scores[i], reverse=True)[:10]#seleccinamos las 5 oraciones mas relevantes\n",
        "print(svr_top_sentences)#imprimios del total de oraciones, que oraciones son las mas relevantes"
      ],
      "metadata": {
        "colab": {
          "base_uri": "https://localhost:8080/"
        },
        "id": "NThfo3Bncohl",
        "outputId": "23b4bc4f-4591-42f7-f60d-f3b6436ee700"
      },
      "execution_count": 35,
      "outputs": [
        {
          "output_type": "stream",
          "name": "stdout",
          "text": [
            "[109, 65, 96, 25, 41, 79, 107, 49, 97, 33]\n"
          ]
        }
      ]
    },
    {
      "cell_type": "code",
      "source": [
        "#de la lista de oraciones originales tomamos las las 5 oraciones de top_sentence\n",
        "svr_summary = [sentences[i].text for i in svr_top_sentences]\n",
        "svr_summary = ' '.join(svr_summary)#unimos las oraciones para crear un resumen\n",
        "print(svr_summary)#impresion del resumen"
      ],
      "metadata": {
        "colab": {
          "base_uri": "https://localhost:8080/"
        },
        "id": "WiRNrgkvdBR0",
        "outputId": "52e8cfa2-ec80-434f-e462-417afe7591ba"
      },
      "execution_count": 36,
      "outputs": [
        {
          "output_type": "stream",
          "name": "stdout",
          "text": [
            "the film stars mexican actor gael garcía bernal, and received positive reviews.cochabamba is also the site of several major spammers, as confirmed by the watchdog group spamhaus. in contrast, the zona sur, a remote area adjacent to the wilstermann international airport is visibly impoverished, with adobe homes and unpaved roads, which is often the first impression visitors acquire while commuting into the city.in 2009, the government under president evo morales created a new constitution that declared spanish and 36 other indigenous languages as the official languages of the country. cochabamba became the second recipient city of brazilian students in bolivia after the city of santa cruz, due to the affordable and good living conditions of the city. however, the city entered a period of decline during the 18th century as mining began to wane.in 1786, king charles iii of spain renamed the city the 'loyal and valiant' villa of cochabamba. the coalition for the defense of water and life, and its leader oscar olivera, started a demonstration in la plaza 14 de septiembre also known as la plaza principal. due to this industry growth, cochabamba is called the \"silicon valley of bolivia\", with a high demand for professionals immersed in technological careers such as systems engineering, telecommunications and information technology.the airline boliviana de aviación has its headquarters in cochabamba. powerful drug lord alejandro sosa resided there, governed large coca plantations and owned cocaine labs whereupon further refining, would be shipped to tony montana in florida.cochabamba is the setting of the 2010 movie también la lluvia , which takes place during the water war of 2000. the first democratically elected prefect of cochabamba, manfred reyes villa, had allied himself with the leaders of bolivia's eastern departments in a dispute with president evo morales over regional autonomy and other political issues. also, cochabamba is the home of one of the best schools of bolivia, colegio san agustín.cochabamba is served by the modern jorge wilstermann international airport , which handles domestic and international flights. cochabamba's plebeian women, at bay, fight from the centre of a circle of fire.\n"
          ]
        }
      ]
    },
    {
      "cell_type": "code",
      "source": [
        "#imprimos la cantidad de caracteres del Resumen con \n",
        "print(\"Cantidad de caracteres del Resumen con SVR:\", len(svr_summary))\n",
        "print(\"Cantidad de caracteres del Texto original:\", len(text))"
      ],
      "metadata": {
        "colab": {
          "base_uri": "https://localhost:8080/"
        },
        "id": "hYiQKp8jdQn9",
        "outputId": "a473f05b-dce7-4ffd-cf76-652acec53f9c"
      },
      "execution_count": 37,
      "outputs": [
        {
          "output_type": "stream",
          "name": "stdout",
          "text": [
            "Cantidad de caracteres del Resumen con SVR: 2235\n",
            "Cantidad de caracteres del Texto original: 23034\n"
          ]
        }
      ]
    },
    {
      "cell_type": "markdown",
      "source": [
        "#Decision Tree"
      ],
      "metadata": {
        "id": "r8j5asKAgQec"
      }
    },
    {
      "cell_type": "code",
      "source": [
        "#aplicamos y entrenamos el modelo\n",
        "dt_model = DecisionTreeRegressor(random_state=123)\n",
        "dt_model.fit(X_train, y_train)\n",
        "y_pred = dt_model.predict(X_test)"
      ],
      "metadata": {
        "id": "MlHrTjAIhQNW"
      },
      "execution_count": 38,
      "outputs": []
    },
    {
      "cell_type": "code",
      "source": [
        "dt_r2 = r2_score(y_test, y_pred)\n",
        "dt_mse = mean_squared_error(y_test, y_pred)"
      ],
      "metadata": {
        "id": "Z0EWonOjhYwR"
      },
      "execution_count": 39,
      "outputs": []
    },
    {
      "cell_type": "code",
      "source": [
        "# Entrenamos el modelo entrenado en matriz de similitud\n",
        "dt_sentence_scores = dt_model.predict(similarity_matrix)\n",
        "#Ordenamos las oraciones mas relevantes en orden descendente\n",
        "dt_top_sentences = sorted(range(len(dt_sentence_scores)), key=lambda i: dt_sentence_scores[i], reverse=True)[:10]#seleccinamos las 5 oraciones mas relevantes\n",
        "print(dt_top_sentences)#imprimios del total de oraciones, que oraciones son las mas relevantes"
      ],
      "metadata": {
        "colab": {
          "base_uri": "https://localhost:8080/"
        },
        "id": "Y3LijFifi_uX",
        "outputId": "453cacc7-26a6-4779-a5e5-4928961c792f"
      },
      "execution_count": 40,
      "outputs": [
        {
          "output_type": "stream",
          "name": "stdout",
          "text": [
            "[109, 62, 63, 96, 110, 111, 25, 38, 79, 33]\n"
          ]
        }
      ]
    },
    {
      "cell_type": "code",
      "source": [
        "#de la lista de oraciones originales tomamos las las 5 oraciones de top_sentence\n",
        "dt_summary = [sentences[i].text for i in dt_top_sentences]\n",
        "dt_summary = ' '.join(dt_summary)#unimos las oraciones para crear un resumen\n",
        "print(dt_summary)#impresion del resumen"
      ],
      "metadata": {
        "colab": {
          "base_uri": "https://localhost:8080/"
        },
        "id": "xsMVkdYjjY3_",
        "outputId": "94cb147f-24da-4bf1-a0f3-5e445647259f"
      },
      "execution_count": 41,
      "outputs": [
        {
          "output_type": "stream",
          "name": "stdout",
          "text": [
            "the film stars mexican actor gael garcía bernal, and received positive reviews.cochabamba is also the site of several major spammers, as confirmed by the watchdog group spamhaus. its central commercial districts, zona norte, is bounded by plaza colón and plaza 14 de septiembre, are generally equipped with modern urban amenities and are where the majority of the city's formal business and commercial industries are based. la cancha, the largest open-air market in south america, is also an active place where locals can buy a range of items. cochabamba became the second recipient city of brazilian students in bolivia after the city of santa cruz, due to the affordable and good living conditions of the city. business people simón iturri patiño , mining magnateeducators and intellectualsjaime escalante, professor and teacher whose life was dramatized in the 1988 film stand and deliverrenato prada oropeza, professor, semiologist, writerthäddeus haenke , botanist musicians katia escalera, sopranojaime laredo, , classical violinistlos kjarkas, cochabambino folk music group literature nataniel aguirre , authoradela zamudio , author and poetjesús lara , author and poetgaby vallejo canedo , author, professor of literatureedmundo paz soldán,  authormarcelo quiroga santa cruz , author and politicianjavier del granado , poet laureatejulia urquidi , writer, remembered as mario vargas llosa's first wiferenato prada oropeza , novelist and poetsara ugarte de salamanca, poet who had the memorial built to the heroines on 1812óscar únzaga de la vega , journalist and historian other oscar olivera , environmental activist nazis klaus barbie , german ss and gestapo functionarycochabamba is twinned with:world people's conference on climate change2000 cochabamba however, the city entered a period of decline during the 18th century as mining began to wane.in 1786, king charles iii of spain renamed the city the 'loyal and valiant' villa of cochabamba. in 1999, a group of private investors, specifically the bechtel corporation with headquarters in san francisco, california, united states of america, came together under the name of aguas del tunari and bought the rights for the privatization of the city's water. due to this industry growth, cochabamba is called the \"silicon valley of bolivia\", with a high demand for professionals immersed in technological careers such as systems engineering, telecommunications and information technology.the airline boliviana de aviación has its headquarters in cochabamba. cochabamba's plebeian women, at bay, fight from the centre of a circle of fire.\n"
          ]
        }
      ]
    },
    {
      "cell_type": "code",
      "source": [
        "#imprimos la cantidad de caracteres del Resumen con \n",
        "print(\"Cantidad de caracteres del Resumen con Desicion Tree:\", len(dt_summary))\n",
        "print(\"Cantidad de caracteres del Texto original:\", len(text))"
      ],
      "metadata": {
        "colab": {
          "base_uri": "https://localhost:8080/"
        },
        "id": "Ujq4hMn4jiMF",
        "outputId": "f63dd895-8a49-4db7-f3d3-f2246e593861"
      },
      "execution_count": 42,
      "outputs": [
        {
          "output_type": "stream",
          "name": "stdout",
          "text": [
            "Cantidad de caracteres del Resumen con Desicion Tree: 2599\n",
            "Cantidad de caracteres del Texto original: 23034\n"
          ]
        }
      ]
    },
    {
      "cell_type": "markdown",
      "source": [
        "#Final Summary"
      ],
      "metadata": {
        "id": "rOW69OPfkBso"
      }
    },
    {
      "cell_type": "code",
      "source": [
        "#creamos una lista para almacenar R2 de los modelos de regresion\n",
        "r2_list = [rf_r2 *100, gb_r2 *100,svr_r2 *100, dt_r2 *100]\n",
        "#creamos una lista para almacenar R2 de los modelos de regresion\n",
        "mse_list = [rf_mse , gb_mse ,svr_mse, dt_mse]"
      ],
      "metadata": {
        "id": "RtPJi_SAkbhb"
      },
      "execution_count": 43,
      "outputs": []
    },
    {
      "cell_type": "code",
      "source": [
        "plt.bar(['Random Forest', '  Gradient Boosting','SVM','Desicion Tree'], r2_list)\n",
        "plt.xlabel('Modelos')\n",
        "plt.ylabel('Precisión (%)')\n",
        "plt.title('Comparación de Precisión entre Modelos')\n",
        "plt.ylim([0, 110])\n",
        "for i, v in enumerate(r2_list):\n",
        "    plt.text(i - 0.1, v + 1, str(round(v, 2)) + '%')\n",
        "plt.show()"
      ],
      "metadata": {
        "colab": {
          "base_uri": "https://localhost:8080/",
          "height": 295
        },
        "id": "trk1jGYFld3O",
        "outputId": "9fe1f637-e888-4c72-cdb1-e14e09121689"
      },
      "execution_count": 44,
      "outputs": [
        {
          "output_type": "display_data",
          "data": {
            "text/plain": [
              "<Figure size 432x288 with 1 Axes>"
            ],
            "image/png": "[encoded data removed]"
          },
          "metadata": {
            "needs_background": "light"
          }
        }
      ]
    },
    {
      "cell_type": "markdown",
      "source": [
        "Tenemos que SVM es el mejor modelo para predecir las mejores oraciones pero por el nivel de presicion puede que este sobre entrenado.\n",
        "\n",
        "aun asi los 2 primeros modelos son considerablemente buenos\n",
        "\n",
        "Comentar que este modelo la presicion en R2 cambia de a cuardo a la cantidad de oraciones que genere Spacy a menor oracion el R2 del modelo sera menor"
      ],
      "metadata": {
        "id": "j8l1pTxcqd86"
      }
    },
    {
      "cell_type": "code",
      "source": [
        "plt.bar(['Random Forest', '  Gradient Boosting','SVM','Desicion Tree'], mse_list)\n",
        "plt.xlabel('Modelos')\n",
        "plt.ylabel('MSE')\n",
        "plt.title('Comparación de Error Cuadratico Medio entre Modelos')\n",
        "#plt.ylim([0, 110])\n",
        "for i, v in enumerate(mse_list):\n",
        "    plt.text(i - 0.1, v + 1, str(round(v, 2)) )\n",
        "plt.show()"
      ],
      "metadata": {
        "colab": {
          "base_uri": "https://localhost:8080/",
          "height": 295
        },
        "id": "aIM5QoO9rGj_",
        "outputId": "e97a5c6b-89bc-4ec1-c177-127567c3b094"
      },
      "execution_count": 45,
      "outputs": [
        {
          "output_type": "display_data",
          "data": {
            "text/plain": [
              "<Figure size 432x288 with 1 Axes>"
            ],
            "image/png": "[encoded data removed]"
          },
          "metadata": {
            "needs_background": "light"
          }
        }
      ]
    },
    {
      "cell_type": "code",
      "source": [
        "#imprimimos la lista de las 10 oraciones mas relevantes para cada Modelo\n",
        "print(\"Lista de las Oraciones mas relevantes de Random Forest:   \",rf_top_sentences)\n",
        "print(\"Lista de las Oraciones mas relevantes de Gradient Bosting:\",gb_top_sentences)\n",
        "print(\"Lista de las Oraciones mas relevantes de SVM:             \",svr_top_sentences)\n",
        "print(\"Lista de las Oraciones mas relevantes de Desicion Tree:   \",dt_top_sentences)"
      ],
      "metadata": {
        "colab": {
          "base_uri": "https://localhost:8080/"
        },
        "id": "bJttfHpBluee",
        "outputId": "59854053-7386-48c5-a707-36f9037a02f3"
      },
      "execution_count": 46,
      "outputs": [
        {
          "output_type": "stream",
          "name": "stdout",
          "text": [
            "Lista de las Oraciones mas relevantes de Random Forest:    [109, 25, 65, 96, 107, 97, 73, 19, 49, 41]\n",
            "Lista de las Oraciones mas relevantes de Gradient Bosting: [109, 96, 65, 25, 107, 97, 19, 16, 15, 73]\n",
            "Lista de las Oraciones mas relevantes de SVM:              [109, 65, 96, 25, 41, 79, 107, 49, 97, 33]\n",
            "Lista de las Oraciones mas relevantes de Desicion Tree:    [109, 62, 63, 96, 110, 111, 25, 38, 79, 33]\n"
          ]
        }
      ]
    },
    {
      "cell_type": "markdown",
      "source": [
        "Por el orden de las oraciones se puede ver que existe similitudes en el numero de oracion a considerar para el resumen variando en muy poco el resumen"
      ],
      "metadata": {
        "id": "JRTTW94wuZDK"
      }
    },
    {
      "cell_type": "code",
      "source": [
        "#imprimimos la cantidad de caracteres que tiene el resumen\n",
        "print(\"Cantidad de caracteres con Random Forest:   \",len(rf_summary))\n",
        "print(\"Cantidad de caracteres con Gradient Bosting:\",len(gb_summary))\n",
        "print(\"Cantidad de caracteres con SVM:             \",len(svr_summary))\n",
        "print(\"Cantidad de caracteres con Desicion Tree:   \",len(dt_summary))\n",
        "print(\"Cantidad de caracteres del Texto original   \",len(text))\n"
      ],
      "metadata": {
        "colab": {
          "base_uri": "https://localhost:8080/"
        },
        "id": "BrWbPewctBXL",
        "outputId": "ca280380-bbf1-4a89-d293-088f70d9019d"
      },
      "execution_count": 47,
      "outputs": [
        {
          "output_type": "stream",
          "name": "stdout",
          "text": [
            "Cantidad de caracteres con Random Forest:    2141\n",
            "Cantidad de caracteres con Gradient Bosting: 2036\n",
            "Cantidad de caracteres con SVM:              2235\n",
            "Cantidad de caracteres con Desicion Tree:    2599\n",
            "Cantidad de caracteres del Texto original    23034\n"
          ]
        }
      ]
    },
    {
      "cell_type": "code",
      "source": [
        "#imprimimos los resumenes\n",
        "print(\"Resumen con Random Forest:   \",rf_summary)\n",
        "print(\"Resumen con Gradient Bosting:\",gb_summary)\n",
        "print(\"Resumen con SVM:             \",svr_summary)\n",
        "print(\"Resumen con Desicion Tree:   \",dt_summary)"
      ],
      "metadata": {
        "colab": {
          "base_uri": "https://localhost:8080/"
        },
        "id": "pHTJPLE7nkhU",
        "outputId": "9c1abb87-7c9a-40f1-81f3-7d7444259f14"
      },
      "execution_count": 48,
      "outputs": [
        {
          "output_type": "stream",
          "name": "stdout",
          "text": [
            "Resumen con Random Forest:    the film stars mexican actor gael garcía bernal, and received positive reviews.cochabamba is also the site of several major spammers, as confirmed by the watchdog group spamhaus. however, the city entered a period of decline during the 18th century as mining began to wane.in 1786, king charles iii of spain renamed the city the 'loyal and valiant' villa of cochabamba. in contrast, the zona sur, a remote area adjacent to the wilstermann international airport is visibly impoverished, with adobe homes and unpaved roads, which is often the first impression visitors acquire while commuting into the city.in 2009, the government under president evo morales created a new constitution that declared spanish and 36 other indigenous languages as the official languages of the country. cochabamba became the second recipient city of brazilian students in bolivia after the city of santa cruz, due to the affordable and good living conditions of the city. powerful drug lord alejandro sosa resided there, governed large coca plantations and owned cocaine labs whereupon further refining, would be shipped to tony montana in florida.cochabamba is the setting of the 2010 movie también la lluvia , which takes place during the water war of 2000. also, cochabamba is the home of one of the best schools of bolivia, colegio san agustín.cochabamba is served by the modern jorge wilstermann international airport , which handles domestic and international flights. the 11-member municipal council is the legislative branch.the current mayor is josé maría leyes of the social democrat movement .\t\t\t\t he purchased the majority of the land from local tribal chiefs achata and consavana through a title registered in 1552 at the imperial city of potosí. the first democratically elected prefect of cochabamba, manfred reyes villa, had allied himself with the leaders of bolivia's eastern departments in a dispute with president evo morales over regional autonomy and other political issues. the coalition for the defense of water and life, and its leader oscar olivera, started a demonstration in la plaza 14 de septiembre also known as la plaza principal.\n",
            "Resumen con Gradient Bosting: the film stars mexican actor gael garcía bernal, and received positive reviews.cochabamba is also the site of several major spammers, as confirmed by the watchdog group spamhaus. cochabamba became the second recipient city of brazilian students in bolivia after the city of santa cruz, due to the affordable and good living conditions of the city. in contrast, the zona sur, a remote area adjacent to the wilstermann international airport is visibly impoverished, with adobe homes and unpaved roads, which is often the first impression visitors acquire while commuting into the city.in 2009, the government under president evo morales created a new constitution that declared spanish and 36 other indigenous languages as the official languages of the country. however, the city entered a period of decline during the 18th century as mining began to wane.in 1786, king charles iii of spain renamed the city the 'loyal and valiant' villa of cochabamba. powerful drug lord alejandro sosa resided there, governed large coca plantations and owned cocaine labs whereupon further refining, would be shipped to tony montana in florida.cochabamba is the setting of the 2010 movie también la lluvia , which takes place during the water war of 2000. also, cochabamba is the home of one of the best schools of bolivia, colegio san agustín.cochabamba is served by the modern jorge wilstermann international airport , which handles domestic and international flights. he purchased the majority of the land from local tribal chiefs achata and consavana through a title registered in 1552 at the imperial city of potosí. the maize was stored in 2,400 storehouses  in the hills overlooking the valley or transported by llama caravan to storage sites in paria, cusco, of other inca administrative centres.   the principal crop was maize which could not be grown in much of the high and cold heartland of the inca empire. the 11-member municipal council is the legislative branch.the current mayor is josé maría leyes of the social democrat movement .\t\t\t\t\n",
            "Resumen con SVM:              the film stars mexican actor gael garcía bernal, and received positive reviews.cochabamba is also the site of several major spammers, as confirmed by the watchdog group spamhaus. in contrast, the zona sur, a remote area adjacent to the wilstermann international airport is visibly impoverished, with adobe homes and unpaved roads, which is often the first impression visitors acquire while commuting into the city.in 2009, the government under president evo morales created a new constitution that declared spanish and 36 other indigenous languages as the official languages of the country. cochabamba became the second recipient city of brazilian students in bolivia after the city of santa cruz, due to the affordable and good living conditions of the city. however, the city entered a period of decline during the 18th century as mining began to wane.in 1786, king charles iii of spain renamed the city the 'loyal and valiant' villa of cochabamba. the coalition for the defense of water and life, and its leader oscar olivera, started a demonstration in la plaza 14 de septiembre also known as la plaza principal. due to this industry growth, cochabamba is called the \"silicon valley of bolivia\", with a high demand for professionals immersed in technological careers such as systems engineering, telecommunications and information technology.the airline boliviana de aviación has its headquarters in cochabamba. powerful drug lord alejandro sosa resided there, governed large coca plantations and owned cocaine labs whereupon further refining, would be shipped to tony montana in florida.cochabamba is the setting of the 2010 movie también la lluvia , which takes place during the water war of 2000. the first democratically elected prefect of cochabamba, manfred reyes villa, had allied himself with the leaders of bolivia's eastern departments in a dispute with president evo morales over regional autonomy and other political issues. also, cochabamba is the home of one of the best schools of bolivia, colegio san agustín.cochabamba is served by the modern jorge wilstermann international airport , which handles domestic and international flights. cochabamba's plebeian women, at bay, fight from the centre of a circle of fire.\n",
            "Resumen con Desicion Tree:    the film stars mexican actor gael garcía bernal, and received positive reviews.cochabamba is also the site of several major spammers, as confirmed by the watchdog group spamhaus. its central commercial districts, zona norte, is bounded by plaza colón and plaza 14 de septiembre, are generally equipped with modern urban amenities and are where the majority of the city's formal business and commercial industries are based. la cancha, the largest open-air market in south america, is also an active place where locals can buy a range of items. cochabamba became the second recipient city of brazilian students in bolivia after the city of santa cruz, due to the affordable and good living conditions of the city. business people simón iturri patiño , mining magnateeducators and intellectualsjaime escalante, professor and teacher whose life was dramatized in the 1988 film stand and deliverrenato prada oropeza, professor, semiologist, writerthäddeus haenke , botanist musicians katia escalera, sopranojaime laredo, , classical violinistlos kjarkas, cochabambino folk music group literature nataniel aguirre , authoradela zamudio , author and poetjesús lara , author and poetgaby vallejo canedo , author, professor of literatureedmundo paz soldán,  authormarcelo quiroga santa cruz , author and politicianjavier del granado , poet laureatejulia urquidi , writer, remembered as mario vargas llosa's first wiferenato prada oropeza , novelist and poetsara ugarte de salamanca, poet who had the memorial built to the heroines on 1812óscar únzaga de la vega , journalist and historian other oscar olivera , environmental activist nazis klaus barbie , german ss and gestapo functionarycochabamba is twinned with:world people's conference on climate change2000 cochabamba however, the city entered a period of decline during the 18th century as mining began to wane.in 1786, king charles iii of spain renamed the city the 'loyal and valiant' villa of cochabamba. in 1999, a group of private investors, specifically the bechtel corporation with headquarters in san francisco, california, united states of america, came together under the name of aguas del tunari and bought the rights for the privatization of the city's water. due to this industry growth, cochabamba is called the \"silicon valley of bolivia\", with a high demand for professionals immersed in technological careers such as systems engineering, telecommunications and information technology.the airline boliviana de aviación has its headquarters in cochabamba. cochabamba's plebeian women, at bay, fight from the centre of a circle of fire.\n"
          ]
        }
      ]
    }
  ]
}